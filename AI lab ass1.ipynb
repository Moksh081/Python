{
 "cells": [
  {
   "cell_type": "code",
   "execution_count": 1,
   "id": "cde65321",
   "metadata": {},
   "outputs": [],
   "source": [
    "import numpy as np"
   ]
  },
  {
   "cell_type": "code",
   "execution_count": 20,
   "id": "a069f554",
   "metadata": {},
   "outputs": [
    {
     "name": "stdout",
     "output_type": "stream",
     "text": [
      "highest_math :  90 \n",
      " lowest_math :  27.5 \n",
      " average_math :  67.94444444444444\n",
      "highest_science :  90 \n",
      " lowest_science :  27.5 \n",
      " average_science :  68.83333333333333\n",
      "highest_english :  92 \n",
      " lowest_english :  27.5 \n",
      " average_english :  70.38888888888889\n",
      "highest_it :  91 \n",
      " lowest_it :  7 \n",
      " average_it :  62.77777777777778\n",
      "highest_overall :  92 lowest_overall :  7 average_overall :  67.48611111111111\n"
     ]
    }
   ],
   "source": [
    "##Q1 \n",
    "math = [80,70,90,27.5,43,55,67,89,90]\n",
    "science = [80,77,90,27.5,43,56,67,89,90]\n",
    "english = [80,70,92,27.5,43,55,87,89,90]\n",
    "it = [80,70,90,40,43,55,7,89,91]\n",
    "print(\"highest_math : \",max(math),\"\\n\", \"lowest_math : \", min(math),\"\\n\", \"average_math : \", np.mean(math))\n",
    "print(\"highest_science : \",max(science),\"\\n\", \"lowest_science : \", min(science),\"\\n\", \"average_science : \", np.mean(science))\n",
    "print(\"highest_english : \",max(english),\"\\n\", \"lowest_english : \", min(english),\"\\n\", \"average_english : \", np.mean(english))\n",
    "print(\"highest_it : \",max(it),\"\\n\", \"lowest_it : \", min(it),\"\\n\", \"average_it : \", np.mean(it))\n",
    "highest_all = [max(math),max(science),max(english),max(it)]\n",
    "lowest_all = [min(math),min(science),min(english),min(it)]\n",
    "average_all = [np.mean(math),np.mean(science),np.mean(english),np.mean(it)]\n",
    "print(\"highest_overall : \",max(highest_all),\"lowest_overall : \",min(lowest_all),\"average_overall : \",np.mean(average_all))"
   ]
  },
  {
   "cell_type": "code",
   "execution_count": 25,
   "id": "b48b50de",
   "metadata": {},
   "outputs": [
    {
     "name": "stdout",
     "output_type": "stream",
     "text": [
      "Enter basic salary: \n",
      "2500\n",
      "Gross Salary: 12500.0\n"
     ]
    }
   ],
   "source": [
    "##Q2\n",
    "print(\"Enter basic salary: \")\n",
    "basic_salary = int(input())\n",
    "\n",
    "if basic_salary <= 10000:\n",
    "    hra = 0.2 * 10000\n",
    "    da = 0.8 * 10000\n",
    "    Gross_salary = basic_salary + hra + da\n",
    "    print(\"Gross Salary:\", Gross_salary)\n",
    "elif 10000 < basic_salary <= 20000:\n",
    "    hra = 0.25 * 20000\n",
    "    da = 0.9 * 20000\n",
    "    Gross_salary = basic_salary + hra + da\n",
    "    print(\"Gross Salary:\", Gross_salary)\n",
    "elif basic_salary > 20000:\n",
    "    hra = 0.3 * 20000\n",
    "    da = 0.95 * 20000\n",
    "    Gross_salary = basic_salary + hra + da\n",
    "    print(\"Gross Salary:\", Gross_salary)\n",
    "else:\n",
    "    print(\"Invalid\")\n"
   ]
  },
  {
   "cell_type": "code",
   "execution_count": 33,
   "id": "33cd0c5a",
   "metadata": {},
   "outputs": [
    {
     "name": "stdout",
     "output_type": "stream",
     "text": [
      "Enter password : \n",
      "conditions :  \n",
      " atleast 1 letter [a-z] and 1 in [A-Z] , 1 number b/w [0-9]  \n",
      " atleast 1 character[$#@] \n",
      " min length 6 characters , max 16\n",
      "#12jsmn\n",
      "atleast 1 letter from [A-Z] should be there\n"
     ]
    }
   ],
   "source": [
    "print(\"Enter password : \")\n",
    "print(\"conditions : \",\"\\n\",\"atleast 1 letter [a-z] and 1 in [A-Z] , 1 number b/w [0-9] \",\"\\n\",\"atleast 1 character[$#@]\",\"\\n\",\"min length 6 characters , max 16\")\n",
    "passw = input()\n",
    "n = len(passw)\n",
    "if 6<= n <=16:\n",
    "    if any('#$@' for char in passw):\n",
    "         if any(char.isupper() for char in passw):\n",
    "              if any(char.islower() for char in passw):\n",
    "                    print(\"password is valid\")\n",
    "              else:\n",
    "                    print(\"atleast 1 letter from [a-z] should be there\")\n",
    "         else:\n",
    "                print(\"atleast 1 letter from [A-Z] should be there\")\n",
    "    else:\n",
    "        print(\"special characters not present\")\n",
    "else:\n",
    "    print(\"password length not valid\")"
   ]
  },
  {
   "cell_type": "code",
   "execution_count": 45,
   "id": "64b7c4ce",
   "metadata": {},
   "outputs": [
    {
     "name": "stdout",
     "output_type": "stream",
     "text": [
      "[ 10  20  30  40  50  60  70  80 200 300]\n"
     ]
    },
    {
     "data": {
      "text/plain": [
       "(array([2, 3], dtype=int64),)"
      ]
     },
     "execution_count": 45,
     "metadata": {},
     "output_type": "execute_result"
    }
   ],
   "source": [
    "##Q3 a\n",
    "L = [10,20,30,40,50,60,70,80]\n",
    "L = np.append(L,200)\n",
    "L = np.append(L,300)\n",
    "print(L)\n",
    "indices_to_remove = np.where((L == 30) | (L == 40))\n",
    "indices_to_remove"
   ]
  },
  {
   "cell_type": "code",
   "execution_count": 43,
   "id": "3453165d",
   "metadata": {},
   "outputs": [
    {
     "name": "stdout",
     "output_type": "stream",
     "text": [
      "[ 10  20  40  60  70  80 200 300]\n"
     ]
    }
   ],
   "source": [
    "##Q3 b\n",
    "L = np.delete(L,2)\n",
    "L = np.delete(L,3)\n",
    "print(L)"
   ]
  },
  {
   "cell_type": "code",
   "execution_count": 46,
   "id": "70484959",
   "metadata": {},
   "outputs": [
    {
     "name": "stdout",
     "output_type": "stream",
     "text": [
      "[ 10  20  30  40  50  60  70  80 200 300]\n"
     ]
    }
   ],
   "source": [
    "##Q3 c \n",
    "L.sort()\n",
    "print(L)"
   ]
  },
  {
   "cell_type": "code",
   "execution_count": 53,
   "id": "1fbe442c",
   "metadata": {},
   "outputs": [
    {
     "name": "stdout",
     "output_type": "stream",
     "text": [
      "[300 200  80  70  60  50  40  30  20  10]\n"
     ]
    }
   ],
   "source": [
    "##Q3 d\n",
    "##in descending order :\n",
    "# Reverse the array in-place\n",
    "L = L[::-1]\n",
    "print(L)"
   ]
  },
  {
   "cell_type": "code",
   "execution_count": 60,
   "id": "31e07eea",
   "metadata": {},
   "outputs": [
    {
     "data": {
      "text/html": [
       "<div>\n",
       "<style scoped>\n",
       "    .dataframe tbody tr th:only-of-type {\n",
       "        vertical-align: middle;\n",
       "    }\n",
       "\n",
       "    .dataframe tbody tr th {\n",
       "        vertical-align: top;\n",
       "    }\n",
       "\n",
       "    .dataframe thead th {\n",
       "        text-align: right;\n",
       "    }\n",
       "</style>\n",
       "<table border=\"1\" class=\"dataframe\">\n",
       "  <thead>\n",
       "    <tr style=\"text-align: right;\">\n",
       "      <th></th>\n",
       "      <th>1</th>\n",
       "      <th>2</th>\n",
       "      <th>3</th>\n",
       "      <th>4</th>\n",
       "      <th>5</th>\n",
       "    </tr>\n",
       "  </thead>\n",
       "  <tbody>\n",
       "    <tr>\n",
       "      <th>1</th>\n",
       "      <td>One</td>\n",
       "      <td>Two</td>\n",
       "      <td>Three</td>\n",
       "      <td>Four</td>\n",
       "      <td>Five</td>\n",
       "    </tr>\n",
       "  </tbody>\n",
       "</table>\n",
       "</div>"
      ],
      "text/plain": [
       "     1    2      3     4     5\n",
       "1  One  Two  Three  Four  Five"
      ]
     },
     "execution_count": 60,
     "metadata": {},
     "output_type": "execute_result"
    }
   ],
   "source": [
    "##Q4\n",
    "import pandas as pd\n",
    "D = {\n",
    "    1 : \"One\",\n",
    "    2 : \"Two\",\n",
    "    3 : \"Three\",\n",
    "    4 : \"Four\",\n",
    "    5 : \"Five\"\n",
    "}\n",
    "df = pd.DataFrame(D, index=[1])\n",
    "df"
   ]
  },
  {
   "cell_type": "code",
   "execution_count": 61,
   "id": "8c6ac0dd",
   "metadata": {},
   "outputs": [
    {
     "data": {
      "text/html": [
       "<div>\n",
       "<style scoped>\n",
       "    .dataframe tbody tr th:only-of-type {\n",
       "        vertical-align: middle;\n",
       "    }\n",
       "\n",
       "    .dataframe tbody tr th {\n",
       "        vertical-align: top;\n",
       "    }\n",
       "\n",
       "    .dataframe thead th {\n",
       "        text-align: right;\n",
       "    }\n",
       "</style>\n",
       "<table border=\"1\" class=\"dataframe\">\n",
       "  <thead>\n",
       "    <tr style=\"text-align: right;\">\n",
       "      <th></th>\n",
       "      <th>1</th>\n",
       "      <th>2</th>\n",
       "      <th>3</th>\n",
       "      <th>4</th>\n",
       "      <th>5</th>\n",
       "      <th>6</th>\n",
       "    </tr>\n",
       "  </thead>\n",
       "  <tbody>\n",
       "    <tr>\n",
       "      <th>1</th>\n",
       "      <td>One</td>\n",
       "      <td>Two</td>\n",
       "      <td>Three</td>\n",
       "      <td>Four</td>\n",
       "      <td>Five</td>\n",
       "      <td>Six</td>\n",
       "    </tr>\n",
       "  </tbody>\n",
       "</table>\n",
       "</div>"
      ],
      "text/plain": [
       "     1    2      3     4     5    6\n",
       "1  One  Two  Three  Four  Five  Six"
      ]
     },
     "execution_count": 61,
     "metadata": {},
     "output_type": "execute_result"
    }
   ],
   "source": [
    "df[6] = ['Six']\n",
    "df"
   ]
  },
  {
   "cell_type": "code",
   "execution_count": 81,
   "id": "07cb5379",
   "metadata": {},
   "outputs": [
    {
     "data": {
      "text/plain": [
       "1    1\n",
       "3    1\n",
       "4    1\n",
       "5    1\n",
       "dtype: int64"
      ]
     },
     "execution_count": 81,
     "metadata": {},
     "output_type": "execute_result"
    }
   ],
   "source": [
    "import pandas as pd\n",
    "D = {\n",
    "    1 : \"One\",\n",
    "    2 : \"Two\",\n",
    "    3 : \"Three\",\n",
    "    4 : \"Four\",\n",
    "    5 : \"Five\"\n",
    "}\n",
    "df = pd.DataFrame(D, index=[1])\n",
    "df = df.drop(2,axis=1)\n",
    "df"
   ]
  },
  {
   "cell_type": "code",
   "execution_count": 82,
   "id": "2faa87ff",
   "metadata": {},
   "outputs": [
    {
     "name": "stdout",
     "output_type": "stream",
     "text": [
      "not present\n"
     ]
    }
   ],
   "source": [
    "import pandas as pd\n",
    "D = {\n",
    "    1 : \"One\",\n",
    "    3 : \"Three\",\n",
    "    4 : \"Four\",\n",
    "    5 : \"Five\"\n",
    "}\n",
    "df = pd.DataFrame(D, index=[1])\n",
    "if 6 in df:\n",
    "    print(\"present\")\n",
    "else:\n",
    "    print(\"not present\")"
   ]
  },
  {
   "cell_type": "code",
   "execution_count": 83,
   "id": "24c232b0",
   "metadata": {},
   "outputs": [
    {
     "data": {
      "text/plain": [
       "1    1\n",
       "2    1\n",
       "3    1\n",
       "4    1\n",
       "5    1\n",
       "dtype: int64"
      ]
     },
     "execution_count": 83,
     "metadata": {},
     "output_type": "execute_result"
    }
   ],
   "source": [
    "import pandas as pd\n",
    "D = {\n",
    "    1 : \"One\",\n",
    "    2 : \"Two\",\n",
    "    3 : \"Three\",\n",
    "    4 : \"Four\",\n",
    "    5 : \"Five\"\n",
    "}\n",
    "df = pd.DataFrame(D, index=[1])\n",
    "df.count()"
   ]
  },
  {
   "cell_type": "code",
   "execution_count": 85,
   "id": "a2c55e1a",
   "metadata": {},
   "outputs": [
    {
     "data": {
      "text/plain": [
       "array([100, 108, 116, 124, 132, 140, 148, 156, 164, 172, 180, 188, 196,\n",
       "       205, 213, 221, 229, 237, 245, 253, 261, 269, 277, 285, 293, 302,\n",
       "       310, 318, 326, 334, 342, 350, 358, 366, 374, 382, 390, 398, 407,\n",
       "       415, 423, 431, 439, 447, 455, 463, 471, 479, 487, 495, 504, 512,\n",
       "       520, 528, 536, 544, 552, 560, 568, 576, 584, 592, 601, 609, 617,\n",
       "       625, 633, 641, 649, 657, 665, 673, 681, 689, 697, 706, 714, 722,\n",
       "       730, 738, 746, 754, 762, 770, 778, 786, 794, 803, 811, 819, 827,\n",
       "       835, 843, 851, 859, 867, 875, 883, 891, 900])"
      ]
     },
     "execution_count": 85,
     "metadata": {},
     "output_type": "execute_result"
    }
   ],
   "source": [
    "##Q6\n",
    "import numpy as np\n",
    "L = np.linspace(100,900,100,dtype=int)\n",
    "L"
   ]
  },
  {
   "cell_type": "code",
   "execution_count": 88,
   "id": "812de0c5",
   "metadata": {},
   "outputs": [
    {
     "name": "stdout",
     "output_type": "stream",
     "text": [
      "Count of even numbers: 51\n",
      "Count of odd numbers: 49\n"
     ]
    }
   ],
   "source": [
    "count_even = 0\n",
    "count_odd = 0\n",
    "\n",
    "import numpy as np\n",
    "L = np.linspace(100,900,100,dtype=int)\n",
    "\n",
    "for i in L:  # Corrected the loop variable to 'i'\n",
    "    if i % 2 == 0:\n",
    "        count_even += 1\n",
    "    else:\n",
    "        count_odd += 1\n",
    "\n",
    "print(\"Count of even numbers:\", count_even)\n",
    "print(\"Count of odd numbers:\", count_odd)"
   ]
  },
  {
   "cell_type": "code",
   "execution_count": 89,
   "id": "ba232669",
   "metadata": {},
   "outputs": [
    {
     "ename": "SyntaxError",
     "evalue": "expected ':' (1053275168.py, line 5)",
     "output_type": "error",
     "traceback": [
      "\u001b[1;36m  Cell \u001b[1;32mIn[89], line 5\u001b[1;36m\u001b[0m\n\u001b[1;33m    if i\u001b[0m\n\u001b[1;37m        ^\u001b[0m\n\u001b[1;31mSyntaxError\u001b[0m\u001b[1;31m:\u001b[0m expected ':'\n"
     ]
    }
   ],
   "source": [
    "count_prime = 0\n",
    "import numpy as np\n",
    "L = np.linspace(100,900,100,dtype=int)\n",
    "for i in L:\n",
    "    if i"
   ]
  },
  {
   "cell_type": "code",
   "execution_count": 96,
   "id": "5541826c",
   "metadata": {},
   "outputs": [
    {
     "ename": "ModuleNotFoundError",
     "evalue": "No module named 'modulefile'",
     "output_type": "error",
     "traceback": [
      "\u001b[1;31m---------------------------------------------------------------------------\u001b[0m",
      "\u001b[1;31mModuleNotFoundError\u001b[0m                       Traceback (most recent call last)",
      "Cell \u001b[1;32mIn[96], line 1\u001b[0m\n\u001b[1;32m----> 1\u001b[0m \u001b[38;5;28;01mimport\u001b[39;00m \u001b[38;5;21;01mmodulefile\u001b[39;00m\u001b[38;5;21;01m.\u001b[39;00m\u001b[38;5;21;01mipynb\u001b[39;00m\n\u001b[0;32m      2\u001b[0m modulefile\u001b[38;5;241m.\u001b[39mci(\u001b[38;5;241m1\u001b[39m,\u001b[38;5;241m0.2\u001b[39m,\u001b[38;5;241m3\u001b[39m)\n",
      "\u001b[1;31mModuleNotFoundError\u001b[0m: No module named 'modulefile'"
     ]
    }
   ],
   "source": [
    "import modulefile.ipynb\n",
    "modulefile.ci(1,0.2,3)"
   ]
  },
  {
   "cell_type": "code",
   "execution_count": 3,
   "id": "3ea1eba5",
   "metadata": {},
   "outputs": [
    {
     "name": "stdout",
     "output_type": "stream",
     "text": [
      "17\n"
     ]
    }
   ],
   "source": [
    "import numpy as np\n",
    "numbers = np.linspace(100,900,100,dtype=int)\n",
    "prime_count = 0\n",
    "\n",
    "for number in numbers:\n",
    "    if number > 1:\n",
    "        is_prime = True\n",
    "        for i in range(2, int(number**0.5) + 1):\n",
    "            if number % i == 0:\n",
    "                is_prime = False\n",
    "                break\n",
    "        if is_prime:\n",
    "            prime_count += 1\n",
    "print(prime_count)"
   ]
  },
  {
   "cell_type": "code",
   "execution_count": 4,
   "id": "86687796",
   "metadata": {},
   "outputs": [
    {
     "name": "stdout",
     "output_type": "stream",
     "text": [
      "The name is:  bestone\n",
      "The Cuisine is:  indian\n",
      "The Restaurant is open\n"
     ]
    }
   ],
   "source": [
    "class Restaurant:\n",
    "    def __init__(self, name, cuisine):\n",
    "        self.name = name\n",
    "        self.cuisine = cuisine\n",
    "    \n",
    "    def open_res(self):\n",
    "        print(\"The name is: \", self.name)\n",
    "        print(\"The Cuisine is: \", self.cuisine)\n",
    "        print(\"The Restaurant is open\")\n",
    "    \n",
    "p1 = Restaurant(\"bestone\", \"indian\")\n",
    "p1.open_res()\n"
   ]
  },
  {
   "cell_type": "code",
   "execution_count": 5,
   "id": "a3bd4edd",
   "metadata": {},
   "outputs": [
    {
     "name": "stdout",
     "output_type": "stream",
     "text": [
      "The first name is :  Prathamjyot\n",
      "The last name is :  Singh\n",
      "The age is :  20\n",
      "Good Evening Mr./Ms.  Prathamjyot Singh\n",
      "The first name is :  Moksh\n",
      "The last name is :  Sharma\n",
      "The age is :  19\n",
      "Good Evening Mr./Ms.  Moksh Sharma\n",
      "The first name is :  Yuvraj\n",
      "The last name is :  Singh\n",
      "The age is :  19\n",
      "Good Evening Mr./Ms.  Yuvraj Singh\n"
     ]
    }
   ],
   "source": [
    "class User:\n",
    "    def __init__(self,first_name,last_name,age):\n",
    "        self.first_name=first_name\n",
    "        self.last_name=last_name\n",
    "        self.age=age\n",
    "    \n",
    "    def describe_user(self):\n",
    "        print(\"The first name is : \",self.first_name)\n",
    "        print(\"The last name is : \",self.last_name)\n",
    "        print(\"The age is : \",self.age)\n",
    "    \n",
    "    def greet_user(self):\n",
    "        print(\"Good Evening Mr./Ms. \",self.first_name,self.last_name)\n",
    "    \n",
    "p1=User(\"Prathamjyot\",\"Singh\",20)\n",
    "p1.describe_user()\n",
    "p1.greet_user()\n",
    "p2=User(\"Moksh\",\"Sharma\",19)\n",
    "p2.describe_user()\n",
    "p2.greet_user()\n",
    "p3=User(\"Yuvraj\",\"Singh\",19)\n",
    "p3.describe_user()\n",
    "p3.greet_user()"
   ]
  },
  {
   "cell_type": "code",
   "execution_count": null,
   "id": "910a1bb7",
   "metadata": {},
   "outputs": [],
   "source": []
  }
 ],
 "metadata": {
  "kernelspec": {
   "display_name": "Python 3 (ipykernel)",
   "language": "python",
   "name": "python3"
  },
  "language_info": {
   "codemirror_mode": {
    "name": "ipython",
    "version": 3
   },
   "file_extension": ".py",
   "mimetype": "text/x-python",
   "name": "python",
   "nbconvert_exporter": "python",
   "pygments_lexer": "ipython3",
   "version": "3.11.5"
  }
 },
 "nbformat": 4,
 "nbformat_minor": 5
}
