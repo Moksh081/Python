{
 "cells": [
  {
   "cell_type": "code",
   "execution_count": 1,
   "metadata": {},
   "outputs": [
    {
     "name": "stdout",
     "output_type": "stream",
     "text": [
      "Hello world!!\n"
     ]
    }
   ],
   "source": [
    "# PROGRAM 1: WAP to print “Hello World” \n",
    "print('Hello','world!!')\n"
   ]
  },
  {
   "cell_type": "code",
   "execution_count": 2,
   "metadata": {
    "scrolled": true
   },
   "outputs": [
    {
     "name": "stdout",
     "output_type": "stream",
     "text": [
      "Welcome to, My Home "
     ]
    }
   ],
   "source": [
    "#print(i, end=' ')\n",
    "#keeps everything on same line\n",
    "print(\"Welcome to,\" , end = ' ') \n",
    "print(\"My Home\", end = ' ')\n"
   ]
  },
  {
   "cell_type": "code",
   "execution_count": 3,
   "metadata": {},
   "outputs": [
    {
     "name": "stdout",
     "output_type": "stream",
     "text": [
      "My mail id is : indira_rana@.com\n"
     ]
    }
   ],
   "source": [
    "print(\"My mail id is\",end = ' : ')\n",
    "print(\"indira_rana\", end = '@')\n",
    "print(\".com\")"
   ]
  },
  {
   "cell_type": "code",
   "execution_count": 4,
   "metadata": {},
   "outputs": [
    {
     "name": "stdout",
     "output_type": "stream",
     "text": [
      "RITU\n",
      "NEHA\n",
      "MANJEET\n"
     ]
    }
   ],
   "source": [
    "print(\"RITU\")\n",
    "print(\"NEHA\")\n",
    "print(\"MANJEET\")"
   ]
  },
  {
   "cell_type": "code",
   "execution_count": null,
   "metadata": {},
   "outputs": [],
   "source": [
    "#The Fibonacci numbers are the sequence below, where the first two numbers are 1, and each\n",
    "#number thereafter is the sum of the two preceding numbers. Write a program that asks the\n",
    "#user how many Fibonacci numbers to print and then prints that many.\n",
    "#1, 1, 2, 3, 5, 8, 13, 21, 34, 55, 89 . .\n",
    "#Program to display the Fibonacci sequence up to n-th term\n",
    "n = int(input(\"enter the value n: \"))\n",
    "print(\"fibonacci series is :\")\n",
    "\n",
    "i,x,s, = 0,0,1\n",
    "while i <= n:\n",
    " print(s)\n",
    " sum = x + s\n",
    " x=s\n",
    " s=sum\n",
    " i= i+1\n",
    "\n"
   ]
  },
  {
   "cell_type": "code",
   "execution_count": null,
   "metadata": {},
   "outputs": [],
   "source": [
    "#PROGRAM 2: WAP to Add numbers and Concatenate strings \n",
    "# Program 2.1: Add two numbers \n",
    "a = 5\n",
    "b = 10\n",
    "sum = a+b\n",
    "print(sum)\n"
   ]
  },
  {
   "cell_type": "code",
   "execution_count": null,
   "metadata": {},
   "outputs": [],
   "source": [
    "#Program 2.2: Concatenate two strings \n",
    "a= \"My name is \"\n",
    "b=\"Ritu Rana\"\n",
    "print(a+b)"
   ]
  },
  {
   "cell_type": "code",
   "execution_count": null,
   "metadata": {},
   "outputs": [],
   "source": [
    "#PROGRAM 3: WAP to take Input from user \n",
    "#Program 3.1: Input two numbers from user and add them \n",
    "a = int(input(\"Enter the value of first a: \"))\n",
    "b = int(input(\"Enter the value of b: \"))\n",
    "sum = a+b\n",
    "print(\"sum of two numbers a + b = \", sum)"
   ]
  },
  {
   "cell_type": "code",
   "execution_count": null,
   "metadata": {},
   "outputs": [],
   "source": [
    "#Program 3.2: Input two strings from user and concatenate them\n",
    "a=input(\"first string \")\n",
    "b=input(\"second string \")\n",
    "print(a + b)"
   ]
  },
  {
   "cell_type": "code",
   "execution_count": null,
   "metadata": {},
   "outputs": [],
   "source": [
    "a=input(\"first string \")\n",
    "b=input(\"second string \")\n",
    "print(a, end = ' ' + b)\n"
   ]
  },
  {
   "cell_type": "code",
   "execution_count": null,
   "metadata": {},
   "outputs": [],
   "source": [
    "num1 = input('Enter first number: ')\n",
    "num2 = input('Enter second number: ')\n",
    "sum = float(num1) + float(num2)\n",
    "print(sum)"
   ]
  },
  {
   "cell_type": "code",
   "execution_count": null,
   "metadata": {},
   "outputs": [],
   "source": [
    "#PROGRAM 4: WAP to understand the concept of Loops \n",
    "#Program 4.1: While Loop \n",
    "#Sum of n numbers\n",
    "n= int(input(\"enter the value of: \"))\n",
    "i=1\n",
    "sum=0\n",
    "while i <= n:\n",
    " sum = sum + i\n",
    " i = i + 1\n",
    "print(\"sum of n numbers is: \", sum)    \n"
   ]
  },
  {
   "cell_type": "code",
   "execution_count": 2,
   "metadata": {},
   "outputs": [
    {
     "name": "stdout",
     "output_type": "stream",
     "text": [
      "0 1 2 3 4 5 6 7 "
     ]
    }
   ],
   "source": [
    "#Program 4.2: Range Function \n",
    "x = range(8)\n",
    "for n in x:\n",
    "  print(n, end = \" \")"
   ]
  },
  {
   "cell_type": "code",
   "execution_count": 3,
   "metadata": {},
   "outputs": [
    {
     "name": "stdout",
     "output_type": "stream",
     "text": [
      "2\n",
      "5\n"
     ]
    }
   ],
   "source": [
    "# range(start, stop, step)\n",
    "x = range(2,7,3)\n",
    "for n in x:\n",
    " print(n)"
   ]
  },
  {
   "cell_type": "code",
   "execution_count": 5,
   "metadata": {},
   "outputs": [
    {
     "name": "stdout",
     "output_type": "stream",
     "text": [
      "Enter the value of n: 2\n",
      "0\n",
      "1\n"
     ]
    }
   ],
   "source": [
    "#program 4.3:For Loop\n",
    "# print a series of n numbers\n",
    "n = int(input(\"Enter the value of n: \"))\n",
    "for i in range(n):\n",
    " print(i)"
   ]
  },
  {
   "cell_type": "code",
   "execution_count": 4,
   "metadata": {},
   "outputs": [
    {
     "name": "stdout",
     "output_type": "stream",
     "text": [
      "The table of: 7\n",
      "7 x 1 = 7\n",
      "7 x 2 = 14\n",
      "7 x 3 = 21\n",
      "7 x 4 = 28\n",
      "7 x 5 = 35\n",
      "7 x 6 = 42\n",
      "7 x 7 = 49\n",
      "7 x 8 = 56\n",
      "7 x 9 = 63\n",
      "7 x 10 = 70\n"
     ]
    }
   ],
   "source": [
    "#program 4.4: Multiplication table of 5 in Python\n",
    "n = int(input(\"The table of: \"))\n",
    "for i in range(1,11):\n",
    " print(n ,'x', i ,'=',n * i)"
   ]
  },
  {
   "cell_type": "code",
   "execution_count": null,
   "metadata": {},
   "outputs": [],
   "source": [
    "#Program 4.5: Sum all numbers from 1 to 10\n",
    "n = int(input(\"enter the number \"))\n",
    "for i in range(1, n+1):\n",
    "    print(i, end = \" \")\n",
    "sum = 0\n",
    "for x in range(1,n+1,1):\n",
    "  sum = sum + x\n",
    "print(end = '\\n')\n",
    "print(\"Sum of first \", n, \"numbers is: \", sum)\n",
    "\n",
    " \n"
   ]
  },
  {
   "cell_type": "code",
   "execution_count": null,
   "metadata": {},
   "outputs": [],
   "source": [
    "#PROGRAM 5: WAP to understand the concept of If-Else - Conditional Checking \n",
    "# Program 5.1: Input two numbers from user and compare them \n",
    "firstNo = int(input(\"Enter the first number: \"))\n",
    "secondNo = int(input(\"Enter the second number: \"))\n",
    "if firstNo>secondNo:\n",
    "    print(\"Frist Number is greater \")\n",
    "    \n",
    "elif firstNo == secondNo:\n",
    "    print(\"Both numbers are equal\")\n",
    "else:\n",
    "    print(\"Second Number is greater\")"
   ]
  },
  {
   "cell_type": "code",
   "execution_count": null,
   "metadata": {},
   "outputs": [],
   "source": [
    "#Program 5.2: Check whether a number is odd or even\n",
    "n = int(input(\"enter the number \"))\n",
    "if n%2==0: \n",
    "    print(\"the number is even\")\n",
    "else:       \n",
    "    print(\"the number is odd\")"
   ]
  },
  {
   "cell_type": "code",
   "execution_count": null,
   "metadata": {},
   "outputs": [],
   "source": [
    "#Program 5.3: Check whether a number is prime or not \n",
    "a = int(input(\"Enter a number: \"))  \n",
    "  \n",
    "if a > 1:  \n",
    "   for i in range(2,a):\n",
    "       print(i, end = \" \")\n",
    "       print(end = \"\\n \")\n",
    "       if a % i == 0:  \n",
    "           print(a,\"is not a prime number\")  \n",
    "           print(i,\"x\",a//i,\"are\",a)  \n",
    "           break  \n",
    "   else:  \n",
    "       print(a,\"is a prime number\")  \n",
    "         \n",
    "else:  \n",
    "   print(a,\"is not a prime number\")  "
   ]
  },
  {
   "cell_type": "code",
   "execution_count": null,
   "metadata": {},
   "outputs": [],
   "source": [
    "# PROGRAM 6: WAP to understand the concept of Functions \n",
    "# Program 6.1: Add two numbers\n",
    "def addNum(x,y):\n",
    "    return x + y\n",
    "# sum = x+y;\n",
    " #return sum;\n",
    "\n",
    "a = int(input(\"input the number 1st : \"))\n",
    "b = int(input(\"input the number 2nd :\"))\n",
    "\n",
    "print(\"The sum of two numbers is : \",addNum(a,b))\n",
    "\n"
   ]
  },
  {
   "cell_type": "code",
   "execution_count": 1,
   "metadata": {},
   "outputs": [
    {
     "name": "stdout",
     "output_type": "stream",
     "text": [
      "Enter any number : 4\n",
      "4 is a prime number\n"
     ]
    }
   ],
   "source": [
    "#Program 6.2: Prime number using Functions\n",
    "def primeNum(num):\n",
    "  if num > 1:\n",
    "    for i in range(2,num):\n",
    "        #print(i, end = \" \")\n",
    "        if num % i == 0:\n",
    "            print(num,\"is not a prime number\")\n",
    "            print(i,\"x\",num//i,\"are\",num)\n",
    "            break\n",
    "    else:\n",
    "        print(num,\"is a prime number\")  \n",
    "         \n",
    "  else:  \n",
    "   print(num,\"is not a prime number\")  \n",
    "   \n",
    "a = int(input(\"Enter any number : \"))\n",
    "primeNum(a)\n",
    "        \n",
    "    "
   ]
  },
  {
   "cell_type": "code",
   "execution_count": 2,
   "metadata": {},
   "outputs": [
    {
     "name": "stdout",
     "output_type": "stream",
     "text": [
      "Please Enter any Number: 4\n",
      "Sum of Natural Numbers from 1 to 4 =  10.0\n"
     ]
    }
   ],
   "source": [
    "#Program 6.3: Add 1 to n using functions\n",
    "def sumOfNaturalNum(num):\n",
    "    if num == 0:\n",
    "        return num\n",
    "    else:\n",
    "        sum = num * (num + 1)/2\n",
    "        return sum\n",
    "a = int(input(\"Please Enter any Number: \"))\n",
    "\n",
    "totalSum = sumOfNaturalNum(a)\n",
    "print(\"Sum of Natural Numbers from 1 to {0} =  {1}\".format(a, totalSum))\n"
   ]
  },
  {
   "cell_type": "code",
   "execution_count": null,
   "metadata": {},
   "outputs": [],
   "source": [
    "#PROGRAM 7: WAP using Demo of Data Structure - List\n",
    "#Program 11.1: List Declaration\n",
    "a = []\n",
    "stu = [\"Roham\", 102, \"India\"]\n",
    "#print(\"Name : %s, ID : %d, Country : %s\"%(stu[0],stu[1],stu[2]))\n",
    "print(stu[0],stu[1],stu[2])\n"
   ]
  },
  {
   "cell_type": "code",
   "execution_count": null,
   "metadata": {},
   "outputs": [],
   "source": [
    "#Program 11.2: List Iteration \n",
    "list = [1,2,3,\"Ram\",\"Sham\"]\n",
    "lstLenth = len(list)\n",
    "for i in range(lstLenth):\n",
    "    print(i, end = \" \")\n",
    "    print(list[i])"
   ]
  },
  {
   "cell_type": "code",
   "execution_count": null,
   "metadata": {},
   "outputs": [],
   "source": [
    "#Program 11.3: List Iteration using for loop\n",
    "lst = [1,\"Ram\", \"Rohan\", 3, 4]\n",
    "listLength = len(lst)\n",
    "print(\"Length of the lisi is: \", listLength)\n",
    "print(\"Elements of the list are: \")\n",
    "for i in lst:\n",
    "    print(i)\n",
    "\n"
   ]
  },
  {
   "cell_type": "code",
   "execution_count": null,
   "metadata": {},
   "outputs": [],
   "source": [
    "# list iteration using while loop\n",
    "emp = [\"Rama\",34,\"USA\"]\n",
    "length = len(emp)\n",
    "i = 0\n",
    "while i < length:\n",
    "    #print(\"sName: \",emp[i])\n",
    "    if i == 0:\n",
    "        print(\"EmpName: \",emp[i])\n",
    "    elif i == 1:\n",
    "        print(\"EmpID: \",emp[i])\n",
    "    else:\n",
    "      print(\"EmpCountry: \", emp[i])\n",
    "    i = i+1\n",
    "    \n",
    "\n",
    "     "
   ]
  },
  {
   "cell_type": "code",
   "execution_count": null,
   "metadata": {},
   "outputs": [],
   "source": [
    "# Program 11.4 : Adding and deleting from list \n",
    "#adding to list\n",
    "stuNames = ['Joni', 'Rama', 'Meera', 'Jiya', 'Joojh']\n",
    "stuRollNum = (1,2,3,4,5)\n",
    "stuNames.append('Ritu')\n",
    "print(stuNames)\n",
    "stuNames.append(1)\n",
    "print(stuNames)\n",
    "stuNames.append(stuRollNum)\n",
    "print(stuNames)\n",
    "stuNames.extend(stuRollNum)\n",
    "print(stuNames)"
   ]
  },
  {
   "cell_type": "code",
   "execution_count": null,
   "metadata": {},
   "outputs": [],
   "source": [
    "#deleting from list\n",
    "stuNames = ['Joni', 'Rama', 'Meera', 'Jiya', 'Joojh']\n",
    "del stuNames[4]\n",
    "print(stuNames)\n",
    "del stuNames[1:3]\n",
    "print(stuNames)\n"
   ]
  },
  {
   "cell_type": "code",
   "execution_count": 6,
   "metadata": {},
   "outputs": [
    {
     "name": "stdout",
     "output_type": "stream",
     "text": [
      "enter the number of elements you want in the list: 3\n",
      "enter element in list : w\n",
      "enter element in list : r\n",
      "enter element in list : t\n",
      "List of enterd elements : \n",
      "['w', 'r', 't']\n",
      "w r t "
     ]
    }
   ],
   "source": [
    "#add elements in empty list\n",
    "stuList = []\n",
    "noElm = int(input(\"enter the number of elements you want in the list: \"))\n",
    "for i in range(0,noElm):\n",
    "    stuList.append(input(\"enter element in list : \"))\n",
    "print(\"List of enterd elements : \")\n",
    "print(stuList)\n",
    "for x in stuList:\n",
    "    \n",
    "    print(x, end = \" \")\n",
    "\n",
    "    "
   ]
  },
  {
   "cell_type": "code",
   "execution_count": null,
   "metadata": {},
   "outputs": [],
   "source": [
    "#delete the elements\n",
    "stuNames = ['Joni', 'Rama', 'Meera', 'Jiya', 'Joojh']\n",
    "print(\"List before removing element : \")\n",
    "for i in stuNames:\n",
    "    print(i, end = \" \")\n",
    "print(end = '\\n')\n",
    "del stuNames[3]\n",
    "print(stuNames)\n",
    "stuNames.remove(\"Rama\")\n",
    "print(\"List after removing element : \")\n",
    "for i in stuNames:\n",
    "    print(i, end = \" \")\n"
   ]
  },
  {
   "cell_type": "code",
   "execution_count": null,
   "metadata": {},
   "outputs": [],
   "source": [
    "#Program 11.5 : Sum/Average of List \n",
    "#sum  of list\n",
    "lstOfNum = [1,2,3,4,5]\n",
    "total = 0\n",
    "for i in lstOfNum:\n",
    "    total = total + i\n",
    "print(\"The sum of list elements is:\",total)\n"
   ]
  },
  {
   "cell_type": "code",
   "execution_count": null,
   "metadata": {},
   "outputs": [],
   "source": [
    "list = [1,2,3,4,5]\n",
    "lst2 = [3,4,2,4,5]\n",
    "def calMean(list):\n",
    "    return sum(list)/len(list)\n",
    "average_x = calMean(list)\n",
    "print(\"Average of the x =\", round(average_x, 2))\n",
    "sum = 0\n",
    "\n",
    "lst = []\n",
    "lstLenth = len(list)\n",
    "print(lstLenth)\n",
    "lstleth = len(lst2)\n",
    "for i in range(lstLenth):\n",
    "    for j in range(lstleth):\n",
    "        if i == j:\n",
    "            sum = list[i] - lst2[j]\n",
    "            lst.append(sum * sum)\n",
    "            print(sum)\n",
    "print(lst)\n",
    "sumOfxsqure = 0\n",
    "for i in lst:\n",
    "    sumOfxsqure = sumOfxsqure + i \n",
    "sumOfxsqure"
   ]
  },
  {
   "cell_type": "code",
   "execution_count": null,
   "metadata": {},
   "outputs": [],
   "source": [
    "# remove the duplicate element of the list\n",
    "lstOfNum = [1,2,1,3,3,4,5,2,7,6]\n",
    "newList = []\n",
    "for i in lstOfNum:\n",
    "    if i not in newList:\n",
    "        newList.append(i)\n",
    "print(newList)\n",
    "newList.sort()\n",
    "print(newList)\n"
   ]
  },
  {
   "cell_type": "code",
   "execution_count": null,
   "metadata": {},
   "outputs": [],
   "source": [
    "def cal_average(e):\n",
    "    return sum(e) / len(e)\n",
    "    sum_num = 0\n",
    "    for t in e:\n",
    "        sum_num = sum_um + t           \n",
    "\n",
    "    avg = sum_num / len(e)\n",
    "    return avg\n",
    "\n",
    "print(\"The average is\", cal_average([18,25,3,41,5]))\n",
    "\n",
    "\n",
    "\n",
    "\n"
   ]
  },
  {
   "cell_type": "code",
   "execution_count": null,
   "metadata": {},
   "outputs": [],
   "source": [
    "#Average  of list\n",
    "# Using mean()\n",
    "from statistics import mean\n",
    "def calMean(lst):\n",
    "    return mean(lst)\n",
    "lstOfNum = [1,2,3,4,5,9,8,7,6]\n",
    "average = calMean(lstOfNum)\n",
    "print(\"Average of the list =\", round(average, 2))\n",
    "\n"
   ]
  },
  {
   "cell_type": "code",
   "execution_count": null,
   "metadata": {},
   "outputs": [],
   "source": [
    "def Average(lst):\n",
    "    return sum(lst) / len(lst)\n",
    "  \n",
    "# Driver Code\n",
    "lst = [15, 9, 55, 41, 35, 20, 62, 49]\n",
    "average = Average(lst)\n",
    "  \n",
    "# Printing average of the list\n",
    "print(\"Average of the list =\", round(average, 2))\n"
   ]
  },
  {
   "cell_type": "code",
   "execution_count": null,
   "metadata": {},
   "outputs": [],
   "source": [
    "# Program 11.6 : Min/Max/Sort the list \n",
    "#Min in list\n",
    "numberLst = [13,16, 2, 9, 5, 10, 6,78,56,43,3]\n",
    "smallestNumber = min(numberLst);\n",
    "\n",
    "print(\"The smallest number is:\", smallestNumber)"
   ]
  },
  {
   "cell_type": "code",
   "execution_count": null,
   "metadata": {},
   "outputs": [],
   "source": [
    "#Max in list\n",
    "numberLst = [13,16, 2, 9, 5, 10, 6,78,56,43,3]\n",
    "largestNumber = max(numberLst);\n",
    "\n",
    "print(\"The largest number is:\", largestNumber)\n"
   ]
  },
  {
   "cell_type": "code",
   "execution_count": null,
   "metadata": {},
   "outputs": [],
   "source": [
    "#Sort the List\n",
    "numberLst = [13,16, 2, 9, 5, 10, 6,78,56,43,3]\n",
    "numberLst.sort();\n",
    "\n",
    "print(\"The sorted list is:\", numberLst)\n"
   ]
  },
  {
   "cell_type": "code",
   "execution_count": null,
   "metadata": {},
   "outputs": [],
   "source": [
    "#Program 11.7 : Merge lists & select elements \n",
    "stuNames = ['Joni', 'Rama', 'Meera', 'Jiya', 'Joojh']\n",
    "stuRollNum = (1,2,3,4,5)\n",
    "stuNames.extend(stuRollNum)\n",
    "print(\"Merged list:\", stuNames)\n",
    "\n",
    "# concatenation using + operator\n",
    "names = ['Joni', 'Rama', 'Meera', 'Jiya', 'Joojh']\n",
    "rollNum = [1,2,3,4,5]\n",
    "names = names + rollNum\n",
    "print(\"Merged list using + operator:\" + str(names))"
   ]
  },
  {
   "cell_type": "code",
   "execution_count": null,
   "metadata": {},
   "outputs": [],
   "source": [
    "#Program 1: WAP to add three numbers and print result \n",
    "def addNum(a,b,c):\n",
    "    \n",
    "    if a == b == c:\n",
    "        sum = a * 3\n",
    "    sum = a+b+c\n",
    "    return sum\n",
    " \n",
    "x =int(input(\"enter the 1st number : \"))\n",
    "y =int(input(\"enter the 2nd number : \"))\n",
    "z =int(input(\"enter the 3rd number : \"))\n",
    "addNum(x,y,z)\n",
    "print(addNum(x,y,z))\n",
    "    \n",
    "\n",
    "\n"
   ]
  },
  {
   "cell_type": "code",
   "execution_count": null,
   "metadata": {},
   "outputs": [],
   "source": [
    "#Program 2: WAP to concatenate three strings and print result \n",
    "x = input(\"enter 1st string : \")\n",
    "y = input(\"enter 1st string : \")\n",
    "z = input(\"enter 1st string : \")\n",
    "print(x, end = \" \")\n",
    "print(y, end = \" \")\n",
    "print(z, end = \" \")\n",
    "print(end = '\\n')\n",
    "\n",
    "#using + operator concatenate the three strings\n",
    "a = \"My name \"\n",
    "b = \"is \"\n",
    "c = \"Reeta\"\n",
    "a = a + b + c\n",
    "print(a)\n"
   ]
  },
  {
   "cell_type": "code",
   "execution_count": null,
   "metadata": {},
   "outputs": [],
   "source": [
    "#Program 3: WAP to add three numbers, inputs from user and print result \n",
    "a = int(input(\"Enter 1st no: \"))\n",
    "b = int(input(\"Enter 2nd no: \"))\n",
    "c = int(input(\"Enter 3rd no: \"))\n",
    "print(a + b + c)"
   ]
  },
  {
   "cell_type": "code",
   "execution_count": null,
   "metadata": {},
   "outputs": [],
   "source": [
    "#Program 4: WAP to concatenate three strings, inputs from user and print\n",
    "str1 = input(\"Enter the First  String : \")\n",
    "str2 = input(\"Enter the Second String : \")\n",
    "str3 = input(\"Enter the Third String : \")\n",
    "\n",
    "\n",
    "concat1 = str1 + str2+ str3\n",
    "print(\"The final String After Concatenation = \", concat1)\n",
    "concat2 = str1 + ' ' + str2 + ' ' + str3\n",
    "print(\"The final After String Concatenation with Space = \", concat2)\n"
   ]
  },
  {
   "cell_type": "code",
   "execution_count": null,
   "metadata": {},
   "outputs": [],
   "source": [
    "#Program 5: WAP to print the table of 7, 9. \n",
    "num = 7\n",
    "for i in range(1,11):\n",
    "    print(num , 'x', i ,'=', num * i )\n"
   ]
  },
  {
   "cell_type": "code",
   "execution_count": null,
   "metadata": {},
   "outputs": [],
   "source": [
    "#WAP to print the table of 9\n",
    "num = 9\n",
    "for i in range(1,11):\n",
    "    print(num , 'x', i ,'=', num * i )"
   ]
  },
  {
   "cell_type": "code",
   "execution_count": null,
   "metadata": {},
   "outputs": [],
   "source": [
    "#Program 6: WAP to print the table of n and n is given by user. \n",
    "num = int(input(\"Enter the number: \"))\n",
    "\n",
    "for i in range(1, 11):\n",
    "   print(num, 'x', i, '=', num*i)"
   ]
  },
  {
   "cell_type": "code",
   "execution_count": null,
   "metadata": {},
   "outputs": [],
   "source": [
    "#Program 7: WAP to add all the numbers from 1 to n and n is given by user. \n",
    "n = int(input(\"Enter the number : \"))\n",
    "if num < 0:\n",
    "    print(\"Enter a positive number\")\n",
    "else:\n",
    "    sum = 0\n",
    "    for i in range(1,n+1,1):\n",
    "     sum = sum + i\n",
    "print(\"Sum of first \", n, \"numbers is: \", sum)\n"
   ]
  },
  {
   "cell_type": "code",
   "execution_count": null,
   "metadata": {},
   "outputs": [],
   "source": [
    "#Program 8: WAP to find max among three numbers and input from user \n",
    "a = int(input(\"Enter first number: \"))\n",
    "b = int(input(\"Enter second number: \"))\n",
    "c = int(input(\"Enter third number: \"))\n",
    "if a == b == c:\n",
    "    print(\"These numbers are equal\")\n",
    "elif a > b and a > c:\n",
    "    print(\"The greatest numer is a: \", a)\n",
    "elif b > a and b > c:\n",
    "    print(\"The greatest numer is b: \", b)\n",
    "else:\n",
    "    print(\"The greatest numer is c: \", c)\n",
    "    \n",
    "        \n"
   ]
  },
  {
   "cell_type": "code",
   "execution_count": null,
   "metadata": {},
   "outputs": [],
   "source": [
    "#Program 9: WAP to add all even numbers from 1 to n and n is given by user. \n",
    "n = int(input(\"Enter the natural number: \"))\n",
    "sum = 0\n",
    "for i in range(1,n+1):\n",
    "    if i%2 == 0:\n",
    "     sum = sum + i\n",
    "print(\"Sum of\", n ,\"even numbers\",sum)\n",
    "    "
   ]
  },
  {
   "cell_type": "code",
   "execution_count": null,
   "metadata": {},
   "outputs": [],
   "source": [
    "#Program 10: WAP to add all prime numbers from 1 to n and n is given by user.\n",
    "n = int(input(\"Enter the natural numbers: \"))\n",
    "sum = 0\n",
    "x = 0\n",
    "if n > 1:\n",
    "    for i in range(2,n+1):\n",
    "        #print(\"i\",i)\n",
    "        for x in range(2,i):\n",
    "            #print(\"x\",x)\n",
    "            if i% x == 0:\n",
    "                x = i\n",
    "                #print(\"i\", i ,\"is not a prime no\")\n",
    "                break\n",
    "        if x != i:\n",
    "            #print(\"iii\", i ,\"is a prime no\")\n",
    "            sum = sum + i\n",
    "        \n",
    "    \n",
    "else:\n",
    "    print(\"number shuld be greater tha 1\")\n",
    "    \n",
    "print(\"sum of all prime numbers upto\",n ,\"is : \", sum)\n"
   ]
  },
  {
   "cell_type": "code",
   "execution_count": null,
   "metadata": {},
   "outputs": [],
   "source": [
    "#Program: WAP to add all odd numbers from 1 to n and n is given by user. \n",
    "n = int(input(\"Enter the natural numbers: \"))\n",
    "sum = 0\n",
    "for i in range(1,n+1):\n",
    "    if i%2 != 0:\n",
    "     sum = sum + i\n",
    "print(\"Sum of up to\",n,\"odd numbers is\",sum)\n"
   ]
  },
  {
   "cell_type": "code",
   "execution_count": null,
   "metadata": {},
   "outputs": [],
   "source": [
    "#Program 11: WAP using function that add all odd numbers from 1 to n; n given by user\n",
    "def addOddNo(n):\n",
    "    sum = 0\n",
    "    for i in range(1, n+1):\n",
    "        if i % 2 != 0:\n",
    "            sum = sum + i\n",
    "    return(sum)\n",
    "num = int(input(\"Enter any number : \"))\n",
    "#addOddNo(num)\n",
    "print(\"The sum of \",num, \"odd numbers is : \", addOddNo(num))\n"
   ]
  },
  {
   "cell_type": "code",
   "execution_count": null,
   "metadata": {},
   "outputs": [],
   "source": [
    "#Program 12: WAP using function that add all even numbers from 1 to n; n given by user.\n",
    "def addEvnNo(n):\n",
    "    sum = 0\n",
    "    for i in range(1,n+1):\n",
    "        if i % 2 == 0:\n",
    "            sum = sum +i\n",
    "    return(sum)\n",
    "num = int(input(\"Enter any number : \"))\n",
    "print(\"The sum of \",num, \"even numbers is : \", addEvnNo(num))\n",
    "\n",
    "        \n",
    "        \n"
   ]
  },
  {
   "cell_type": "code",
   "execution_count": null,
   "metadata": {},
   "outputs": [],
   "source": [
    "#Program 13: WAP using function that add all prime numbers from 1 to n; n given by user.\n",
    "\n",
    "def addPrimeNm(n):\n",
    "    sum = 0\n",
    "    x = 0\n",
    "    if n > 1:\n",
    "        for i in range(2,n+1):\n",
    "            #print(\"i\",i)\n",
    "            for x in range(2,i):\n",
    "                #print(\"x\",x)\n",
    "                if i% x == 0:\n",
    "                    x = i\n",
    "                #print(\"i\", i ,\"is not a prime no\")\n",
    "                    break\n",
    "            if x != i:\n",
    "                print( i ,\"is a prime no\")\n",
    "                sum = sum + i\n",
    "                #return(sum)\n",
    "                  \n",
    "    else:\n",
    "        print(\"number shuld be greater tha 1\")\n",
    "    return(sum)    \n",
    "num = int(input(\"Enter the natural numbers: \"))   \n",
    "print(\"sum of all prime numbers upto\",num ,\"is : \", addPrimeNm(num))\n"
   ]
  },
  {
   "cell_type": "code",
   "execution_count": null,
   "metadata": {},
   "outputs": [],
   "source": [
    "#Program 14: WAP to multiply all elements of list by a constant\n",
    "lst = []\n",
    "\n",
    "lstLength = int(input(\"Enter the no. of element you want to enter in the list : \"))\n",
    "for i in range(1,lstLength + 1 ):\n",
    "    lst.append(int(input(\"Enter the element you in the list \")))\n",
    "print(lst)\n",
    "num = int(input(\"Enter any number by which want to mutiply : \"))\n",
    "lstLength = len(lst)\n",
    "for x in range(lstLength) :\n",
    "    lst[x] = num * lst[x]\n",
    "print(lst)\n",
    "# for i in lst:\n",
    "#     print(i)\n",
    "# print()\n",
    "    \n"
   ]
  },
  {
   "cell_type": "code",
   "execution_count": null,
   "metadata": {},
   "outputs": [],
   "source": [
    "#nested dictionary\n",
    "D = {'emp1': {'name': 'Bob', 'job': 'Mgr'},\n",
    "     'emp2': {'name': 'Kim', 'job': 'Dev'},\n",
    "     'emp3': {'name': 'Sam', 'job': 'Dev'}}\n",
    "\n",
    "print(D['emp1']['name'])\n",
    "# Prints Bob\n",
    "\n",
    "print(D['emp2']['job'])\n",
    "# Prints Dev\n"
   ]
  },
  {
   "cell_type": "code",
   "execution_count": null,
   "metadata": {},
   "outputs": [],
   "source": [
    "from fractions import Fraction\n",
    "a = 5\n",
    "b=3\n",
    "print(Fraction(a,b))"
   ]
  },
  {
   "cell_type": "code",
   "execution_count": 1,
   "metadata": {},
   "outputs": [
    {
     "name": "stdout",
     "output_type": "stream",
     "text": [
      "Enter the number of rows: 1\n",
      "Enter the number of columns: 2\n",
      "[0, 0]\n"
     ]
    }
   ],
   "source": [
    "def create_matrix(rows, columns):\n",
    "    # Create a 2D matrix with all elements set to 0\n",
    "    matrix = [[0 for _ in range(columns)] for _ in range(rows)]\n",
    "\n",
    "    # Assign the elements of the first row to each row of the matrix\n",
    "    for i in range(rows):\n",
    "        for j in range(columns):\n",
    "            matrix[i][j] = matrix[0][j]\n",
    "\n",
    "    return matrix\n",
    "\n",
    "def main():\n",
    "    try:\n",
    "        # Get the number of rows and columns from the user\n",
    "        rows = int(input(\"Enter the number of rows: \"))\n",
    "        columns = int(input(\"Enter the number of columns: \"))\n",
    "\n",
    "        # Create the matrix\n",
    "        matrix = create_matrix(rows, columns)\n",
    "\n",
    "        # Print the matrix\n",
    "        for row in matrix:\n",
    "            print(row)\n",
    "\n",
    "    except ValueError:\n",
    "        print(\"Invalid input. Please enter valid integers for the number of rows and columns.\")\n",
    "\n",
    "if __name__ == \"__main__\":\n",
    "    main()"
   ]
  },
  {
   "cell_type": "code",
   "execution_count": null,
   "metadata": {},
   "outputs": [],
   "source": []
  },
  {
   "cell_type": "code",
   "execution_count": null,
   "metadata": {},
   "outputs": [],
   "source": []
  }
 ],
 "metadata": {
  "kernelspec": {
   "display_name": "Python 3 (ipykernel)",
   "language": "python",
   "name": "python3"
  },
  "language_info": {
   "codemirror_mode": {
    "name": "ipython",
    "version": 3
   },
   "file_extension": ".py",
   "mimetype": "text/x-python",
   "name": "python",
   "nbconvert_exporter": "python",
   "pygments_lexer": "ipython3",
   "version": "3.11.5"
  }
 },
 "nbformat": 4,
 "nbformat_minor": 4
}
