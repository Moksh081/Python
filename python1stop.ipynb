{
 "cells": [
  {
   "cell_type": "code",
   "execution_count": 1,
   "id": "0c29698b",
   "metadata": {},
   "outputs": [
    {
     "name": "stdout",
     "output_type": "stream",
     "text": [
      "Package succesfully imported\n"
     ]
    }
   ],
   "source": [
    "import numpy as np\n",
    "print(\"Package succesfully imported\")"
   ]
  },
  {
   "cell_type": "code",
   "execution_count": 2,
   "id": "1521184b",
   "metadata": {},
   "outputs": [
    {
     "name": "stdout",
     "output_type": "stream",
     "text": [
      "<class 'list'>\n",
      "[1, 2, 3, 4, 5, 6]\n"
     ]
    }
   ],
   "source": [
    "list_var = [1,2,3,4,5,6]\n",
    "print(type(list_var))\n",
    "print(list_var)"
   ]
  },
  {
   "cell_type": "code",
   "execution_count": 3,
   "id": "9f3df4e6",
   "metadata": {},
   "outputs": [
    {
     "name": "stdout",
     "output_type": "stream",
     "text": [
      "<class 'numpy.ndarray'>\n",
      "[1 2 3 4 5 6]\n"
     ]
    }
   ],
   "source": [
    "list_to_array = np.array(list_var)\n",
    "print(type(list_to_array))\n",
    "print(list_to_array)"
   ]
  },
  {
   "cell_type": "code",
   "execution_count": 4,
   "id": "657af321",
   "metadata": {},
   "outputs": [
    {
     "name": "stdout",
     "output_type": "stream",
     "text": [
      "<class 'tuple'>\n",
      "(1, 2, 3, 4, 5, 6)\n"
     ]
    }
   ],
   "source": [
    "tuple_var = (1,2,3,4,5,6)\n",
    "print(type(tuple_var))\n",
    "print(tuple_var)"
   ]
  },
  {
   "cell_type": "code",
   "execution_count": 9,
   "id": "b4d62fca",
   "metadata": {},
   "outputs": [
    {
     "name": "stdout",
     "output_type": "stream",
     "text": [
      "[[1.  2.  3. ]\n",
      " [4.  5.  6. ]\n",
      " [1.  2.  3.5]]\n"
     ]
    }
   ],
   "source": [
    "array_2d = np.array([[1,2,3],[4,5,6],[1,2,3.5]])\n",
    "print(array_2d)"
   ]
  },
  {
   "cell_type": "raw",
   "id": "0c705a32",
   "metadata": {},
   "source": []
  },
  {
   "cell_type": "code",
   "execution_count": 10,
   "id": "b3c1fd6e",
   "metadata": {},
   "outputs": [
    {
     "name": "stdout",
     "output_type": "stream",
     "text": [
      "Sum :  [8, 10, 12, 14]"
     ]
    }
   ],
   "source": [
    "list_1 = [1,2,3,4,5,6]\n",
    "list_2 = [7,8,9,10]\n",
    "sum = []\n",
    "len_1 = len(list_1)\n",
    "len_2 = len(list_2)\n",
    "min_len = min(len_1,len_2)\n",
    "for i in range(0,min_len):\n",
    "    sum.append(list_1[i]+list_2[i])\n",
    "print(\"Sum : \",sum,end=\"\")"
   ]
  },
  {
   "cell_type": "code",
   "execution_count": 11,
   "id": "1a29ff3c",
   "metadata": {},
   "outputs": [
    {
     "name": "stdout",
     "output_type": "stream",
     "text": [
      "[ 7  9 11 13 15]\n"
     ]
    }
   ],
   "source": [
    "#vectorisation\n",
    "arr = np.array([1,2,3,4,5])\n",
    "ar = np.array([6,7,8,9,10])\n",
    "sum = arr + ar\n",
    "print(sum)"
   ]
  },
  {
   "cell_type": "code",
   "execution_count": 16,
   "id": "028d8ff2",
   "metadata": {},
   "outputs": [
    {
     "name": "stdout",
     "output_type": "stream",
     "text": [
      "[False False  True  True  True]\n",
      "[3 4 5]\n"
     ]
    }
   ],
   "source": [
    "arr_bool= arr>=3\n",
    "print(arr_bool)\n",
    "print(arr[arr_bool])"
   ]
  },
  {
   "cell_type": "code",
   "execution_count": 7,
   "id": "fcaa11ba",
   "metadata": {},
   "outputs": [
    {
     "ename": "NameError",
     "evalue": "name 'arr' is not defined",
     "output_type": "error",
     "traceback": [
      "\u001b[1;31m---------------------------------------------------------------------------\u001b[0m",
      "\u001b[1;31mNameError\u001b[0m                                 Traceback (most recent call last)",
      "Cell \u001b[1;32mIn[7], line 1\u001b[0m\n\u001b[1;32m----> 1\u001b[0m arr[arr\u001b[38;5;241m>\u001b[39m\u001b[38;5;241m2\u001b[39m]\n",
      "\u001b[1;31mNameError\u001b[0m: name 'arr' is not defined"
     ]
    }
   ],
   "source": [
    "arr[arr>2]"
   ]
  },
  {
   "cell_type": "code",
   "execution_count": 18,
   "id": "ed75f97c",
   "metadata": {},
   "outputs": [
    {
     "name": "stdout",
     "output_type": "stream",
     "text": [
      "[ 1  3  5  7  9 11 13 15 17 19]\n"
     ]
    }
   ],
   "source": [
    "#functions\n",
    "arr = np.array(list(range(1,20,2)))\n",
    "print(arr)"
   ]
  },
  {
   "cell_type": "code",
   "execution_count": 8,
   "id": "727ade7e",
   "metadata": {},
   "outputs": [
    {
     "name": "stdout",
     "output_type": "stream",
     "text": [
      "[0. 0. 0. 0. 0.]\n",
      "[[1 1 1 1 1]\n",
      " [1 1 1 1 1]\n",
      " [1 1 1 1 1]\n",
      " [1 1 1 1 1]\n",
      " [1 1 1 1 1]]\n"
     ]
    }
   ],
   "source": [
    "import numpy as np\n",
    "arr = np.zeros(5)\n",
    "ar = np.ones([5,5],dtype=int)\n",
    "print(arr)\n",
    "print(ar)"
   ]
  },
  {
   "cell_type": "code",
   "execution_count": 14,
   "id": "e8a617ae",
   "metadata": {},
   "outputs": [
    {
     "name": "stdout",
     "output_type": "stream",
     "text": [
      "5\n",
      "6\n"
     ]
    },
    {
     "data": {
      "text/plain": [
       "11"
      ]
     },
     "execution_count": 14,
     "metadata": {},
     "output_type": "execute_result"
    }
   ],
   "source": [
    "##function :\n",
    "def sum(a,b):\n",
    "    return a+b\n",
    " \n",
    "x = int(input())\n",
    "y = int(input())\n",
    "c = sum(x,y)\n",
    "c"
   ]
  },
  {
   "cell_type": "code",
   "execution_count": 17,
   "id": "57a26e55",
   "metadata": {},
   "outputs": [
    {
     "name": "stdout",
     "output_type": "stream",
     "text": [
      "4\n"
     ]
    }
   ],
   "source": [
    "##sum of n odd nos.\n",
    "def sut(n):\n",
    "    sum = 0\n",
    "    for i in range(n):\n",
    "        if not i%2==0:\n",
    "            sum = sum + i\n",
    "    print(sum)\n",
    "\n",
    "sut(4)"
   ]
  },
  {
   "cell_type": "code",
   "execution_count": 21,
   "id": "584fd8a8",
   "metadata": {},
   "outputs": [
    {
     "name": "stdout",
     "output_type": "stream",
     "text": [
      "[[5 5 5 5]\n",
      " [5 5 5 5]\n",
      " [5 5 5 5]\n",
      " [5 5 5 5]]\n"
     ]
    }
   ],
   "source": [
    "print(np.full(shape=(4,4),fill_value=5))"
   ]
  },
  {
   "cell_type": "code",
   "execution_count": 22,
   "id": "e240058b",
   "metadata": {},
   "outputs": [
    {
     "data": {
      "text/plain": [
       "array([[0.99450419, 0.16138674, 0.20245035],\n",
       "       [0.01619382, 0.69871154, 0.93943718],\n",
       "       [0.47663003, 0.61883613, 0.37563389]])"
      ]
     },
     "execution_count": 22,
     "metadata": {},
     "output_type": "execute_result"
    }
   ],
   "source": [
    "np.random.random((3,3))"
   ]
  },
  {
   "cell_type": "code",
   "execution_count": 24,
   "id": "57492ae5",
   "metadata": {},
   "outputs": [
    {
     "name": "stdout",
     "output_type": "stream",
     "text": [
      "[ 9 14  9  7 12  3 12  9  8  3]\n"
     ]
    }
   ],
   "source": [
    "np.random.seed(2)\n",
    "print(np.random.randint(low=1,high=15,size=10))"
   ]
  },
  {
   "cell_type": "code",
   "execution_count": 26,
   "id": "87e5a5d1",
   "metadata": {},
   "outputs": [
    {
     "name": "stdout",
     "output_type": "stream",
     "text": [
      "[0.37454012 0.95071431 0.73199394]\n"
     ]
    }
   ],
   "source": [
    "# Setting the seed to a specific value (e.g., 42)\n",
    "np.random.seed(42)\n",
    "\n",
    "# Generating random numbers\n",
    "random_numbers = np.random.rand(3)\n",
    "print(random_numbers)"
   ]
  },
  {
   "cell_type": "code",
   "execution_count": 27,
   "id": "89587be0",
   "metadata": {},
   "outputs": [
    {
     "name": "stdout",
     "output_type": "stream",
     "text": [
      "[0.37454012 0.95071431 0.73199394]\n"
     ]
    }
   ],
   "source": [
    "# Setting the seed to a specific value (e.g., 42)\n",
    "np.random.seed(42)\n",
    "\n",
    "# Generating random numbers\n",
    "random_numbers = np.random.rand(3)\n",
    "print(random_numbers)"
   ]
  },
  {
   "cell_type": "code",
   "execution_count": 28,
   "id": "63959af7",
   "metadata": {},
   "outputs": [
    {
     "name": "stdout",
     "output_type": "stream",
     "text": [
      "[ 9 14  9  7 12  3 12  9  8  3]\n"
     ]
    }
   ],
   "source": [
    "np.random.seed(2)\n",
    "print(np.random.randint(low=1,high=15,size=10))"
   ]
  },
  {
   "cell_type": "code",
   "execution_count": 30,
   "id": "a2fd2f43",
   "metadata": {},
   "outputs": [
    {
     "name": "stdout",
     "output_type": "stream",
     "text": [
      "[ 1  8 16 24 32 40]\n"
     ]
    },
    {
     "data": {
      "text/plain": [
       "(6,)"
      ]
     },
     "execution_count": 30,
     "metadata": {},
     "output_type": "execute_result"
    }
   ],
   "source": [
    "arr_1 = np.linspace(1,40,6,dtype=int)\n",
    "print(arr_1)\n",
    "arr_1.shape"
   ]
  },
  {
   "cell_type": "code",
   "execution_count": 31,
   "id": "02990afe",
   "metadata": {},
   "outputs": [],
   "source": [
    "import time  #numpy 18 times faster"
   ]
  },
  {
   "cell_type": "code",
   "execution_count": 1,
   "id": "7d1bfa85",
   "metadata": {},
   "outputs": [],
   "source": [
    "from matplotlib import pyplot as plt "
   ]
  },
  {
   "cell_type": "code",
   "execution_count": 8,
   "id": "bcfcfd5c",
   "metadata": {},
   "outputs": [
    {
     "data": {
      "image/png": "[encoded data removed]",
      "text/plain": [
       "<Figure size 640x480 with 1 Axes>"
      ]
     },
     "metadata": {},
     "output_type": "display_data"
    }
   ],
   "source": [
    "plt.plot([1,2,3],[1,2,3])\n",
    "plt.show()"
   ]
  },
  {
   "cell_type": "code",
   "execution_count": 10,
   "id": "48f04eff",
   "metadata": {},
   "outputs": [
    {
     "data": {
      "image/png": "[encoded data removed]",
      "text/plain": [
       "<Figure size 640x480 with 1 Axes>"
      ]
     },
     "metadata": {},
     "output_type": "display_data"
    }
   ],
   "source": [
    "x = [6, 2, 9]\n",
    "y = [2, 10, 3]\n",
    "plt.plot(x,y)\n",
    "plt.title(\"Line Graphs\")\n",
    "plt.xlabel(\"x\")\n",
    "plt.ylabel(\"y\")\n",
    "plt.show()"
   ]
  },
  {
   "cell_type": "code",
   "execution_count": 11,
   "id": "aaea1795",
   "metadata": {},
   "outputs": [
    {
     "data": {
      "text/plain": [
       "[6, 2, 9]"
      ]
     },
     "execution_count": 11,
     "metadata": {},
     "output_type": "execute_result"
    }
   ],
   "source": [
    "x"
   ]
  },
  {
   "cell_type": "code",
   "execution_count": 16,
   "id": "d5fa74e8",
   "metadata": {},
   "outputs": [
    {
     "data": {
      "image/png": "[encoded data removed]",
      "text/plain": [
       "<Figure size 640x480 with 2 Axes>"
      ]
     },
     "metadata": {},
     "output_type": "display_data"
    }
   ],
   "source": [
    "plt.subplot(1,2,1)\n",
    "plt.plot(x,y)\n",
    "plt.title(\"1st subplot\")\n",
    "\n",
    "plt.subplot(1,2,2)\n",
    "plt.plot(y,x)\n",
    "plt.title(\"2nd subplot\")\n",
    "plt.show()"
   ]
  },
  {
   "cell_type": "code",
   "execution_count": 19,
   "id": "9b5a089f",
   "metadata": {},
   "outputs": [
    {
     "data": {
      "image/png": "[encoded data removed]",
      "text/plain": [
       "<Figure size 640x480 with 1 Axes>"
      ]
     },
     "metadata": {},
     "output_type": "display_data"
    }
   ],
   "source": [
    "plt.bar([1,2,3,4,5,6],[7,8,9,10,11,12])\n",
    "plt.title(\"Line Graphs\")\n",
    "plt.xlabel(\"x\")\n",
    "plt.ylabel(\"y\")\n",
    "plt.show()"
   ]
  },
  {
   "cell_type": "code",
   "execution_count": 21,
   "id": "64dd2323",
   "metadata": {},
   "outputs": [
    {
     "data": {
      "image/png": "[encoded data removed]",
      "text/plain": [
       "<Figure size 640x480 with 1 Axes>"
      ]
     },
     "metadata": {},
     "output_type": "display_data"
    }
   ],
   "source": [
    "plt.hist([7,8,9,10,11,12])\n",
    "plt.title(\"Line Graphs\")\n",
    "plt.xlabel(\"x\")\n",
    "plt.ylabel(\"y\")\n",
    "plt.show()"
   ]
  },
  {
   "cell_type": "code",
   "execution_count": 26,
   "id": "f0bd4b0f",
   "metadata": {},
   "outputs": [
    {
     "data": {
      "image/png": "[encoded data removed]",
      "text/plain": [
       "<Figure size 640x480 with 1 Axes>"
      ]
     },
     "metadata": {},
     "output_type": "display_data"
    }
   ],
   "source": [
    "import numpy as np\n",
    "x = np.linspace(0,2*np.pi,1000)\n",
    "y_cos = np.cos(x)\n",
    "y_sin = np.sin(x)\n",
    "plt.plot(x,y_cos,label='cosx')\n",
    "plt.plot(x,y_sin,label='sinx')\n",
    "plt.title('Graphs of cosx and sinx')\n",
    "plt.show()"
   ]
  },
  {
   "cell_type": "code",
   "execution_count": 28,
   "id": "a0cd562d",
   "metadata": {},
   "outputs": [],
   "source": [
    "from mpl_toolkits.mplot3d import axes3d"
   ]
  },
  {
   "cell_type": "code",
   "execution_count": 29,
   "id": "d1dd8c15",
   "metadata": {},
   "outputs": [
    {
     "data": {
      "image/png": "[encoded data removed]",
      "text/plain": [
       "<Figure size 640x480 with 1 Axes>"
      ]
     },
     "metadata": {},
     "output_type": "display_data"
    }
   ],
   "source": [
    "fig = plt.figure()\n",
    "ax = fig.add_subplot(projection = '3d')\n",
    "X, Y, Z = [1,2,3,4,5,6,7,8,9,10],[5, 3, 2, 6, 11, 9, 8, 1, 4, 8], [1,4,6,8,2,5,8,2,1,7]\n",
    "ax.plot(X,Y,Z)\n",
    "plt.show()"
   ]
  },
  {
   "cell_type": "code",
   "execution_count": 30,
   "id": "8ad39c27",
   "metadata": {},
   "outputs": [
    {
     "data": {
      "image/png": "[encoded data removed]",
      "text/plain": [
       "<Figure size 640x480 with 1 Axes>"
      ]
     },
     "metadata": {},
     "output_type": "display_data"
    }
   ],
   "source": [
    "fig = plt.figure()\n",
    "ax = fig.add_subplot(projection = '3d')\n",
    "X, Y, Z = [1,2,3,4,5,6,7,8,9,10],[1,2,3,4,5,6,7,8,9,10], [1,2,3,4,5,6,7,8,9,10]\n",
    "ax.plot(X,Y,Z)\n",
    "plt.show()"
   ]
  },
  {
   "cell_type": "code",
   "execution_count": 33,
   "id": "56c3557b",
   "metadata": {},
   "outputs": [],
   "source": [
    "import pandas as pd\n"
   ]
  },
  {
   "cell_type": "code",
   "execution_count": 34,
   "id": "907a5734",
   "metadata": {},
   "outputs": [],
   "source": [
    "#series\n",
    "_myList = [1,2,3,4,5]"
   ]
  },
  {
   "cell_type": "code",
   "execution_count": 35,
   "id": "13a80372",
   "metadata": {},
   "outputs": [],
   "source": [
    "int_series = pd.Series(_myList)"
   ]
  },
  {
   "cell_type": "code",
   "execution_count": 36,
   "id": "f733d364",
   "metadata": {},
   "outputs": [
    {
     "data": {
      "text/plain": [
       "0    1\n",
       "1    2\n",
       "2    3\n",
       "3    4\n",
       "4    5\n",
       "dtype: int64"
      ]
     },
     "execution_count": 36,
     "metadata": {},
     "output_type": "execute_result"
    }
   ],
   "source": [
    "int_series"
   ]
  },
  {
   "cell_type": "code",
   "execution_count": 38,
   "id": "723af607",
   "metadata": {},
   "outputs": [
    {
     "data": {
      "text/plain": [
       "pandas.core.series.Series"
      ]
     },
     "execution_count": 38,
     "metadata": {},
     "output_type": "execute_result"
    }
   ],
   "source": [
    "type(int_series)"
   ]
  },
  {
   "cell_type": "code",
   "execution_count": 39,
   "id": "dab5475e",
   "metadata": {},
   "outputs": [],
   "source": [
    "str_series = pd.Series(('P','y','t','h','o','n'))"
   ]
  },
  {
   "cell_type": "code",
   "execution_count": 40,
   "id": "a542ec03",
   "metadata": {},
   "outputs": [
    {
     "data": {
      "text/plain": [
       "0    P\n",
       "1    y\n",
       "2    t\n",
       "3    h\n",
       "4    o\n",
       "5    n\n",
       "dtype: object"
      ]
     },
     "execution_count": 40,
     "metadata": {},
     "output_type": "execute_result"
    }
   ],
   "source": [
    "str_series"
   ]
  },
  {
   "cell_type": "code",
   "execution_count": 41,
   "id": "b288281c",
   "metadata": {},
   "outputs": [
    {
     "data": {
      "text/plain": [
       "pandas.core.series.Series"
      ]
     },
     "execution_count": 41,
     "metadata": {},
     "output_type": "execute_result"
    }
   ],
   "source": [
    "type(str_series)"
   ]
  },
  {
   "cell_type": "code",
   "execution_count": 48,
   "id": "9d3e3507",
   "metadata": {},
   "outputs": [],
   "source": [
    "date_series = pd.date_range(start = '01-01-2022', end='04-01-2022')"
   ]
  },
  {
   "cell_type": "code",
   "execution_count": 50,
   "id": "e690510b",
   "metadata": {},
   "outputs": [
    {
     "data": {
      "text/plain": [
       "DatetimeIndex(['2022-01-01', '2022-01-02', '2022-01-03', '2022-01-04',\n",
       "               '2022-01-05', '2022-01-06', '2022-01-07', '2022-01-08',\n",
       "               '2022-01-09', '2022-01-10', '2022-01-11', '2022-01-12',\n",
       "               '2022-01-13', '2022-01-14', '2022-01-15', '2022-01-16',\n",
       "               '2022-01-17', '2022-01-18', '2022-01-19', '2022-01-20',\n",
       "               '2022-01-21', '2022-01-22', '2022-01-23', '2022-01-24',\n",
       "               '2022-01-25', '2022-01-26', '2022-01-27', '2022-01-28',\n",
       "               '2022-01-29', '2022-01-30', '2022-01-31', '2022-02-01',\n",
       "               '2022-02-02', '2022-02-03', '2022-02-04', '2022-02-05',\n",
       "               '2022-02-06', '2022-02-07', '2022-02-08', '2022-02-09',\n",
       "               '2022-02-10', '2022-02-11', '2022-02-12', '2022-02-13',\n",
       "               '2022-02-14', '2022-02-15', '2022-02-16', '2022-02-17',\n",
       "               '2022-02-18', '2022-02-19', '2022-02-20', '2022-02-21',\n",
       "               '2022-02-22', '2022-02-23', '2022-02-24', '2022-02-25',\n",
       "               '2022-02-26', '2022-02-27', '2022-02-28', '2022-03-01',\n",
       "               '2022-03-02', '2022-03-03', '2022-03-04', '2022-03-05',\n",
       "               '2022-03-06', '2022-03-07', '2022-03-08', '2022-03-09',\n",
       "               '2022-03-10', '2022-03-11', '2022-03-12', '2022-03-13',\n",
       "               '2022-03-14', '2022-03-15', '2022-03-16', '2022-03-17',\n",
       "               '2022-03-18', '2022-03-19', '2022-03-20', '2022-03-21',\n",
       "               '2022-03-22', '2022-03-23', '2022-03-24', '2022-03-25',\n",
       "               '2022-03-26', '2022-03-27', '2022-03-28', '2022-03-29',\n",
       "               '2022-03-30', '2022-03-31', '2022-04-01'],\n",
       "              dtype='datetime64[ns]', freq='D')"
      ]
     },
     "execution_count": 50,
     "metadata": {},
     "output_type": "execute_result"
    }
   ],
   "source": [
    "date_series"
   ]
  },
  {
   "cell_type": "code",
   "execution_count": 46,
   "id": "7484a103",
   "metadata": {},
   "outputs": [
    {
     "data": {
      "text/plain": [
       "pandas.core.indexes.datetimes.DatetimeIndex"
      ]
     },
     "execution_count": 46,
     "metadata": {},
     "output_type": "execute_result"
    }
   ],
   "source": [
    "type(date_series)"
   ]
  },
  {
   "cell_type": "code",
   "execution_count": 49,
   "id": "587f0f11",
   "metadata": {},
   "outputs": [
    {
     "name": "stdout",
     "output_type": "stream",
     "text": [
      "Index(['January', 'January', 'January', 'January', 'January', 'January',\n",
      "       'January', 'January', 'January', 'January', 'January', 'January',\n",
      "       'January', 'January', 'January', 'January', 'January', 'January',\n",
      "       'January', 'January', 'January', 'January', 'January', 'January',\n",
      "       'January', 'January', 'January', 'January', 'January', 'January',\n",
      "       'January', 'February', 'February', 'February', 'February', 'February',\n",
      "       'February', 'February', 'February', 'February', 'February', 'February',\n",
      "       'February', 'February', 'February', 'February', 'February', 'February',\n",
      "       'February', 'February', 'February', 'February', 'February', 'February',\n",
      "       'February', 'February', 'February', 'February', 'February', 'March',\n",
      "       'March', 'March', 'March', 'March', 'March', 'March', 'March', 'March',\n",
      "       'March', 'March', 'March', 'March', 'March', 'March', 'March', 'March',\n",
      "       'March', 'March', 'March', 'March', 'March', 'March', 'March', 'March',\n",
      "       'March', 'March', 'March', 'March', 'March', 'March', 'April'],\n",
      "      dtype='object')\n"
     ]
    }
   ],
   "source": [
    "print(date_series.month_name())"
   ]
  },
  {
   "cell_type": "code",
   "execution_count": 51,
   "id": "858f1a3c",
   "metadata": {},
   "outputs": [
    {
     "name": "stdout",
     "output_type": "stream",
     "text": [
      "Index([2022, 2022, 2022, 2022, 2022, 2022, 2022, 2022, 2022, 2022, 2022, 2022,\n",
      "       2022, 2022, 2022, 2022, 2022, 2022, 2022, 2022, 2022, 2022, 2022, 2022,\n",
      "       2022, 2022, 2022, 2022, 2022, 2022, 2022, 2022, 2022, 2022, 2022, 2022,\n",
      "       2022, 2022, 2022, 2022, 2022, 2022, 2022, 2022, 2022, 2022, 2022, 2022,\n",
      "       2022, 2022, 2022, 2022, 2022, 2022, 2022, 2022, 2022, 2022, 2022, 2022,\n",
      "       2022, 2022, 2022, 2022, 2022, 2022, 2022, 2022, 2022, 2022, 2022, 2022,\n",
      "       2022, 2022, 2022, 2022, 2022, 2022, 2022, 2022, 2022, 2022, 2022, 2022,\n",
      "       2022, 2022, 2022, 2022, 2022, 2022, 2022],\n",
      "      dtype='int32')\n"
     ]
    }
   ],
   "source": [
    "print(date_series.year)"
   ]
  },
  {
   "cell_type": "code",
   "execution_count": 53,
   "id": "3a4ed134",
   "metadata": {},
   "outputs": [
    {
     "name": "stdout",
     "output_type": "stream",
     "text": [
      "Index([ 1,  2,  3,  4,  5,  6,  7,  8,  9, 10, 11, 12, 13, 14, 15, 16, 17, 18,\n",
      "       19, 20, 21, 22, 23, 24, 25, 26, 27, 28, 29, 30, 31, 32, 33, 34, 35, 36,\n",
      "       37, 38, 39, 40, 41, 42, 43, 44, 45, 46, 47, 48, 49, 50, 51, 52, 53, 54,\n",
      "       55, 56, 57, 58, 59, 60, 61, 62, 63, 64, 65, 66, 67, 68, 69, 70, 71, 72,\n",
      "       73, 74, 75, 76, 77, 78, 79, 80, 81, 82, 83, 84, 85, 86, 87, 88, 89, 90,\n",
      "       91],\n",
      "      dtype='int32')\n"
     ]
    }
   ],
   "source": [
    "print(date_series.day_of_year)"
   ]
  },
  {
   "cell_type": "code",
   "execution_count": 56,
   "id": "602cebc2",
   "metadata": {},
   "outputs": [],
   "source": [
    "interger_series = pd.Series(_myList , index= [101 , 102, 103, 104, 105])"
   ]
  },
  {
   "cell_type": "code",
   "execution_count": 57,
   "id": "021f21dd",
   "metadata": {},
   "outputs": [
    {
     "data": {
      "text/plain": [
       "101    1\n",
       "102    2\n",
       "103    3\n",
       "104    4\n",
       "105    5\n",
       "dtype: int64"
      ]
     },
     "execution_count": 57,
     "metadata": {},
     "output_type": "execute_result"
    }
   ],
   "source": [
    "interger_series"
   ]
  },
  {
   "cell_type": "code",
   "execution_count": 58,
   "id": "ca7eab35",
   "metadata": {},
   "outputs": [
    {
     "data": {
      "text/plain": [
       "3"
      ]
     },
     "execution_count": 58,
     "metadata": {},
     "output_type": "execute_result"
    }
   ],
   "source": [
    "interger_series[103]"
   ]
  },
  {
   "cell_type": "code",
   "execution_count": 3,
   "id": "bd8f804e",
   "metadata": {},
   "outputs": [],
   "source": [
    "import numpy as np\n",
    "a = np.array([[2,4,6],[1,3,5],[3,5,7]])"
   ]
  },
  {
   "cell_type": "code",
   "execution_count": 4,
   "id": "95706855",
   "metadata": {},
   "outputs": [
    {
     "data": {
      "text/plain": [
       "array([[2, 4, 6],\n",
       "       [1, 3, 5],\n",
       "       [3, 5, 7]])"
      ]
     },
     "execution_count": 4,
     "metadata": {},
     "output_type": "execute_result"
    }
   ],
   "source": [
    "a"
   ]
  },
  {
   "cell_type": "code",
   "execution_count": 5,
   "id": "eb5b5445",
   "metadata": {},
   "outputs": [
    {
     "data": {
      "text/plain": [
       "array([ 6, 12, 18])"
      ]
     },
     "execution_count": 5,
     "metadata": {},
     "output_type": "execute_result"
    }
   ],
   "source": [
    "a.sum(axis=0)"
   ]
  },
  {
   "cell_type": "code",
   "execution_count": 6,
   "id": "da029bbd",
   "metadata": {},
   "outputs": [
    {
     "data": {
      "text/plain": [
       "array([12,  9, 15])"
      ]
     },
     "execution_count": 6,
     "metadata": {},
     "output_type": "execute_result"
    }
   ],
   "source": [
    "a.sum(axis=1)"
   ]
  },
  {
   "cell_type": "code",
   "execution_count": 8,
   "id": "9b5adb78",
   "metadata": {},
   "outputs": [
    {
     "data": {
      "text/plain": [
       "array([[2, 1, 3],\n",
       "       [4, 3, 5],\n",
       "       [6, 5, 7]])"
      ]
     },
     "execution_count": 8,
     "metadata": {},
     "output_type": "execute_result"
    }
   ],
   "source": [
    "a.T"
   ]
  },
  {
   "cell_type": "code",
   "execution_count": 9,
   "id": "7d7841b7",
   "metadata": {},
   "outputs": [
    {
     "name": "stdout",
     "output_type": "stream",
     "text": [
      "2\n",
      "4\n",
      "6\n",
      "1\n",
      "3\n",
      "5\n",
      "3\n",
      "5\n",
      "7\n"
     ]
    }
   ],
   "source": [
    "for i in a.flat:\n",
    "    print(i)"
   ]
  },
  {
   "cell_type": "code",
   "execution_count": 10,
   "id": "fde5b0c1",
   "metadata": {},
   "outputs": [
    {
     "data": {
      "text/plain": [
       "2"
      ]
     },
     "execution_count": 10,
     "metadata": {},
     "output_type": "execute_result"
    }
   ],
   "source": [
    "a.ndim"
   ]
  },
  {
   "cell_type": "code",
   "execution_count": 11,
   "id": "45f52964",
   "metadata": {},
   "outputs": [
    {
     "data": {
      "text/plain": [
       "9"
      ]
     },
     "execution_count": 11,
     "metadata": {},
     "output_type": "execute_result"
    }
   ],
   "source": [
    "a.size\n"
   ]
  },
  {
   "cell_type": "code",
   "execution_count": 12,
   "id": "5ec9e3f5",
   "metadata": {},
   "outputs": [
    {
     "data": {
      "text/plain": [
       "36"
      ]
     },
     "execution_count": 12,
     "metadata": {},
     "output_type": "execute_result"
    }
   ],
   "source": [
    "a.nbytes"
   ]
  },
  {
   "cell_type": "code",
   "execution_count": 13,
   "id": "30bac7f1",
   "metadata": {},
   "outputs": [
    {
     "data": {
      "text/plain": [
       "8"
      ]
     },
     "execution_count": 13,
     "metadata": {},
     "output_type": "execute_result"
    }
   ],
   "source": [
    "a.argmax()"
   ]
  },
  {
   "cell_type": "code",
   "execution_count": 14,
   "id": "012aa5de",
   "metadata": {},
   "outputs": [
    {
     "data": {
      "text/plain": [
       "3"
      ]
     },
     "execution_count": 14,
     "metadata": {},
     "output_type": "execute_result"
    }
   ],
   "source": [
    "a.argmin() #will give index no. column wise upper as well"
   ]
  },
  {
   "cell_type": "code",
   "execution_count": 15,
   "id": "f03a8e2b",
   "metadata": {},
   "outputs": [
    {
     "data": {
      "text/plain": [
       "array([[0, 1, 2],\n",
       "       [0, 1, 2],\n",
       "       [0, 1, 2]], dtype=int64)"
      ]
     },
     "execution_count": 15,
     "metadata": {},
     "output_type": "execute_result"
    }
   ],
   "source": [
    "a.argsort()"
   ]
  },
  {
   "cell_type": "code",
   "execution_count": 16,
   "id": "af9198f6",
   "metadata": {},
   "outputs": [],
   "source": [
    "from matplotlib import pyplot as plt "
   ]
  },
  {
   "cell_type": "code",
   "execution_count": 20,
   "id": "9455b990",
   "metadata": {},
   "outputs": [
    {
     "data": {
      "image/png": "[encoded data removed]",
      "text/plain": [
       "<Figure size 640x480 with 1 Axes>"
      ]
     },
     "metadata": {},
     "output_type": "display_data"
    }
   ],
   "source": [
    "x = np.array([2,10,7,2])\n",
    "y = np.array([1,3,5,7])\n",
    "plt.plot(x,y,'o:r')\n",
    "plt.show()"
   ]
  },
  {
   "cell_type": "code",
   "execution_count": 24,
   "id": "509a3e22",
   "metadata": {},
   "outputs": [
    {
     "data": {
      "image/png": "[encoded data removed]",
      "text/plain": [
       "<Figure size 640x480 with 1 Axes>"
      ]
     },
     "metadata": {},
     "output_type": "display_data"
    },
    {
     "data": {
      "text/plain": [
       "<matplotlib.legend.Legend at 0x2133cf55110>"
      ]
     },
     "execution_count": 24,
     "metadata": {},
     "output_type": "execute_result"
    },
    {
     "data": {
      "image/png": "[encoded data removed]",
      "text/plain": [
       "<Figure size 640x480 with 1 Axes>"
      ]
     },
     "metadata": {},
     "output_type": "display_data"
    }
   ],
   "source": [
    "font1 = {'color':'orange','size':'20'}\n",
    "font2 = {'color':'red','size':'15'}\n",
    "plt.title(\"DATA\",fontdict=font1)\n",
    "plt.xlabel(\"average\",fontdict=font2)\n",
    "plt.ylabel(\"Calories\",fontdict=font2)\n",
    "plt.plot(x,y)\n",
    "plt.grid(axis='x')\n",
    "plt.show()\n",
    "lab=[\"1\",\"2\",\"3\",\"4\"]\n",
    "plt.pie(x,labels=lab)\n",
    "plt.legend()"
   ]
  },
  {
   "cell_type": "markdown",
   "id": "a9368303",
   "metadata": {},
   "source": [
    "# data frames"
   ]
  },
  {
   "cell_type": "code",
   "execution_count": 6,
   "id": "f0a0d85c",
   "metadata": {},
   "outputs": [
    {
     "data": {
      "text/plain": [
       "'Moksh'"
      ]
     },
     "execution_count": 6,
     "metadata": {},
     "output_type": "execute_result"
    }
   ],
   "source": [
    "\n",
    "stud_dict = {\n",
    "        \"roll_no\":[1,2,3,4],\n",
    "        \"stud_name\":['moksh','ram','sita','sham'],\n",
    "         \"maths_score\":[9,8,7,8.5]\n",
    "}\n",
    "student = {\n",
    "    \"s1\" : {\"name\":\"Moksh\",\"rno\":1},\n",
    "    \"s2\" : {\"name\":\"ram\",\"rno\":2},\n",
    "}\n",
    "student[\"s1\"][\"name\"]"
   ]
  },
  {
   "cell_type": "code",
   "execution_count": 35,
   "id": "fca33e0c",
   "metadata": {},
   "outputs": [],
   "source": [
    "import pandas as pd\n",
    "stud_df = pd.DataFrame(stud_dict, index=[1,2,3,4])"
   ]
  },
  {
   "cell_type": "code",
   "execution_count": 36,
   "id": "f13ce324",
   "metadata": {},
   "outputs": [
    {
     "data": {
      "text/html": [
       "<div>\n",
       "<style scoped>\n",
       "    .dataframe tbody tr th:only-of-type {\n",
       "        vertical-align: middle;\n",
       "    }\n",
       "\n",
       "    .dataframe tbody tr th {\n",
       "        vertical-align: top;\n",
       "    }\n",
       "\n",
       "    .dataframe thead th {\n",
       "        text-align: right;\n",
       "    }\n",
       "</style>\n",
       "<table border=\"1\" class=\"dataframe\">\n",
       "  <thead>\n",
       "    <tr style=\"text-align: right;\">\n",
       "      <th></th>\n",
       "      <th>roll_no</th>\n",
       "      <th>stud_name</th>\n",
       "      <th>maths_score</th>\n",
       "    </tr>\n",
       "  </thead>\n",
       "  <tbody>\n",
       "    <tr>\n",
       "      <th>1</th>\n",
       "      <td>1</td>\n",
       "      <td>moksh</td>\n",
       "      <td>9.0</td>\n",
       "    </tr>\n",
       "    <tr>\n",
       "      <th>2</th>\n",
       "      <td>2</td>\n",
       "      <td>ram</td>\n",
       "      <td>8.0</td>\n",
       "    </tr>\n",
       "    <tr>\n",
       "      <th>3</th>\n",
       "      <td>3</td>\n",
       "      <td>sita</td>\n",
       "      <td>7.0</td>\n",
       "    </tr>\n",
       "    <tr>\n",
       "      <th>4</th>\n",
       "      <td>4</td>\n",
       "      <td>sham</td>\n",
       "      <td>8.5</td>\n",
       "    </tr>\n",
       "  </tbody>\n",
       "</table>\n",
       "</div>"
      ],
      "text/plain": [
       "   roll_no stud_name  maths_score\n",
       "1        1     moksh          9.0\n",
       "2        2       ram          8.0\n",
       "3        3      sita          7.0\n",
       "4        4      sham          8.5"
      ]
     },
     "execution_count": 36,
     "metadata": {},
     "output_type": "execute_result"
    }
   ],
   "source": [
    "stud_df"
   ]
  },
  {
   "cell_type": "code",
   "execution_count": 37,
   "id": "278f0695",
   "metadata": {},
   "outputs": [],
   "source": [
    "# dummy_df = pd.read_csv('______.csv')\n",
    "# dummy_df = dummy_df.set_index('id') will not print index separately\n",
    "#dummy_df.head(6) will print top 6 , .tail(n) will print from back, .info()\n"
   ]
  },
  {
   "cell_type": "code",
   "execution_count": 38,
   "id": "a31e788d",
   "metadata": {},
   "outputs": [
    {
     "data": {
      "text/plain": [
       "(4, 3)"
      ]
     },
     "execution_count": 38,
     "metadata": {},
     "output_type": "execute_result"
    }
   ],
   "source": [
    "stud_df.shape"
   ]
  },
  {
   "cell_type": "code",
   "execution_count": 39,
   "id": "879987a7",
   "metadata": {},
   "outputs": [
    {
     "data": {
      "text/html": [
       "<div>\n",
       "<style scoped>\n",
       "    .dataframe tbody tr th:only-of-type {\n",
       "        vertical-align: middle;\n",
       "    }\n",
       "\n",
       "    .dataframe tbody tr th {\n",
       "        vertical-align: top;\n",
       "    }\n",
       "\n",
       "    .dataframe thead th {\n",
       "        text-align: right;\n",
       "    }\n",
       "</style>\n",
       "<table border=\"1\" class=\"dataframe\">\n",
       "  <thead>\n",
       "    <tr style=\"text-align: right;\">\n",
       "      <th></th>\n",
       "      <th>roll_no</th>\n",
       "      <th>maths_score</th>\n",
       "    </tr>\n",
       "  </thead>\n",
       "  <tbody>\n",
       "    <tr>\n",
       "      <th>count</th>\n",
       "      <td>4.000000</td>\n",
       "      <td>4.000000</td>\n",
       "    </tr>\n",
       "    <tr>\n",
       "      <th>mean</th>\n",
       "      <td>2.500000</td>\n",
       "      <td>8.125000</td>\n",
       "    </tr>\n",
       "    <tr>\n",
       "      <th>std</th>\n",
       "      <td>1.290994</td>\n",
       "      <td>0.853913</td>\n",
       "    </tr>\n",
       "    <tr>\n",
       "      <th>min</th>\n",
       "      <td>1.000000</td>\n",
       "      <td>7.000000</td>\n",
       "    </tr>\n",
       "    <tr>\n",
       "      <th>25%</th>\n",
       "      <td>1.750000</td>\n",
       "      <td>7.750000</td>\n",
       "    </tr>\n",
       "    <tr>\n",
       "      <th>50%</th>\n",
       "      <td>2.500000</td>\n",
       "      <td>8.250000</td>\n",
       "    </tr>\n",
       "    <tr>\n",
       "      <th>75%</th>\n",
       "      <td>3.250000</td>\n",
       "      <td>8.625000</td>\n",
       "    </tr>\n",
       "    <tr>\n",
       "      <th>max</th>\n",
       "      <td>4.000000</td>\n",
       "      <td>9.000000</td>\n",
       "    </tr>\n",
       "  </tbody>\n",
       "</table>\n",
       "</div>"
      ],
      "text/plain": [
       "        roll_no  maths_score\n",
       "count  4.000000     4.000000\n",
       "mean   2.500000     8.125000\n",
       "std    1.290994     0.853913\n",
       "min    1.000000     7.000000\n",
       "25%    1.750000     7.750000\n",
       "50%    2.500000     8.250000\n",
       "75%    3.250000     8.625000\n",
       "max    4.000000     9.000000"
      ]
     },
     "execution_count": 39,
     "metadata": {},
     "output_type": "execute_result"
    }
   ],
   "source": [
    "stud_df.describe()"
   ]
  },
  {
   "cell_type": "code",
   "execution_count": 40,
   "id": "20f953a6",
   "metadata": {},
   "outputs": [
    {
     "data": {
      "text/plain": [
       "array([[1, 'moksh', 9.0],\n",
       "       [2, 'ram', 8.0],\n",
       "       [3, 'sita', 7.0],\n",
       "       [4, 'sham', 8.5]], dtype=object)"
      ]
     },
     "execution_count": 40,
     "metadata": {},
     "output_type": "execute_result"
    }
   ],
   "source": [
    "stud_df.values"
   ]
  },
  {
   "cell_type": "code",
   "execution_count": 42,
   "id": "64abaa41",
   "metadata": {},
   "outputs": [
    {
     "data": {
      "text/plain": [
       "roll_no        4\n",
       "stud_name      4\n",
       "maths_score    4\n",
       "dtype: int64"
      ]
     },
     "execution_count": 42,
     "metadata": {},
     "output_type": "execute_result"
    }
   ],
   "source": [
    "stud_df.count()"
   ]
  },
  {
   "cell_type": "code",
   "execution_count": 47,
   "id": "b2695d53",
   "metadata": {},
   "outputs": [
    {
     "data": {
      "text/html": [
       "<div>\n",
       "<style scoped>\n",
       "    .dataframe tbody tr th:only-of-type {\n",
       "        vertical-align: middle;\n",
       "    }\n",
       "\n",
       "    .dataframe tbody tr th {\n",
       "        vertical-align: top;\n",
       "    }\n",
       "\n",
       "    .dataframe thead th {\n",
       "        text-align: right;\n",
       "    }\n",
       "</style>\n",
       "<table border=\"1\" class=\"dataframe\">\n",
       "  <thead>\n",
       "    <tr style=\"text-align: right;\">\n",
       "      <th></th>\n",
       "      <th>roll_no</th>\n",
       "      <th>stud_name</th>\n",
       "      <th>maths_score</th>\n",
       "    </tr>\n",
       "  </thead>\n",
       "  <tbody>\n",
       "    <tr>\n",
       "      <th>1</th>\n",
       "      <td>1</td>\n",
       "      <td>moksh</td>\n",
       "      <td>9.0</td>\n",
       "    </tr>\n",
       "    <tr>\n",
       "      <th>3</th>\n",
       "      <td>3</td>\n",
       "      <td>sita</td>\n",
       "      <td>7.0</td>\n",
       "    </tr>\n",
       "  </tbody>\n",
       "</table>\n",
       "</div>"
      ],
      "text/plain": [
       "   roll_no stud_name  maths_score\n",
       "1        1     moksh          9.0\n",
       "3        3      sita          7.0"
      ]
     },
     "execution_count": 47,
     "metadata": {},
     "output_type": "execute_result"
    }
   ],
   "source": [
    "stud_df[0:4:2]"
   ]
  },
  {
   "cell_type": "code",
   "execution_count": 49,
   "id": "fbc03b49",
   "metadata": {},
   "outputs": [
    {
     "data": {
      "text/plain": [
       "'ram'"
      ]
     },
     "execution_count": 49,
     "metadata": {},
     "output_type": "execute_result"
    }
   ],
   "source": [
    "stud_df.loc[2,'stud_name']"
   ]
  },
  {
   "cell_type": "code",
   "execution_count": 50,
   "id": "c97e08b1",
   "metadata": {},
   "outputs": [
    {
     "data": {
      "text/plain": [
       "roll_no          2\n",
       "stud_name      ram\n",
       "maths_score    8.0\n",
       "Name: 2, dtype: object"
      ]
     },
     "execution_count": 50,
     "metadata": {},
     "output_type": "execute_result"
    }
   ],
   "source": [
    "stud_df.loc[2]"
   ]
  },
  {
   "cell_type": "code",
   "execution_count": 51,
   "id": "3f238025",
   "metadata": {},
   "outputs": [
    {
     "data": {
      "text/plain": [
       "'moksh'"
      ]
     },
     "execution_count": 51,
     "metadata": {},
     "output_type": "execute_result"
    }
   ],
   "source": [
    "stud_df.iloc[0,1]"
   ]
  },
  {
   "cell_type": "code",
   "execution_count": 52,
   "id": "0ec3b914",
   "metadata": {},
   "outputs": [],
   "source": [
    "stud_df.to_csv('stud.csv')"
   ]
  },
  {
   "cell_type": "code",
   "execution_count": 53,
   "id": "07d051e2",
   "metadata": {},
   "outputs": [],
   "source": [
    "dummy_df = pd.read_csv('stud.csv')"
   ]
  },
  {
   "cell_type": "code",
   "execution_count": 54,
   "id": "e0746569",
   "metadata": {},
   "outputs": [
    {
     "data": {
      "text/html": [
       "<div>\n",
       "<style scoped>\n",
       "    .dataframe tbody tr th:only-of-type {\n",
       "        vertical-align: middle;\n",
       "    }\n",
       "\n",
       "    .dataframe tbody tr th {\n",
       "        vertical-align: top;\n",
       "    }\n",
       "\n",
       "    .dataframe thead th {\n",
       "        text-align: right;\n",
       "    }\n",
       "</style>\n",
       "<table border=\"1\" class=\"dataframe\">\n",
       "  <thead>\n",
       "    <tr style=\"text-align: right;\">\n",
       "      <th></th>\n",
       "      <th>Unnamed: 0</th>\n",
       "      <th>roll_no</th>\n",
       "      <th>stud_name</th>\n",
       "      <th>maths_score</th>\n",
       "    </tr>\n",
       "  </thead>\n",
       "  <tbody>\n",
       "    <tr>\n",
       "      <th>0</th>\n",
       "      <td>1</td>\n",
       "      <td>1</td>\n",
       "      <td>moksh</td>\n",
       "      <td>9.0</td>\n",
       "    </tr>\n",
       "    <tr>\n",
       "      <th>1</th>\n",
       "      <td>2</td>\n",
       "      <td>2</td>\n",
       "      <td>ram</td>\n",
       "      <td>8.0</td>\n",
       "    </tr>\n",
       "    <tr>\n",
       "      <th>2</th>\n",
       "      <td>3</td>\n",
       "      <td>3</td>\n",
       "      <td>sita</td>\n",
       "      <td>7.0</td>\n",
       "    </tr>\n",
       "    <tr>\n",
       "      <th>3</th>\n",
       "      <td>4</td>\n",
       "      <td>4</td>\n",
       "      <td>sham</td>\n",
       "      <td>8.5</td>\n",
       "    </tr>\n",
       "  </tbody>\n",
       "</table>\n",
       "</div>"
      ],
      "text/plain": [
       "   Unnamed: 0  roll_no stud_name  maths_score\n",
       "0           1        1     moksh          9.0\n",
       "1           2        2       ram          8.0\n",
       "2           3        3      sita          7.0\n",
       "3           4        4      sham          8.5"
      ]
     },
     "execution_count": 54,
     "metadata": {},
     "output_type": "execute_result"
    }
   ],
   "source": [
    "dummy_df"
   ]
  },
  {
   "cell_type": "code",
   "execution_count": 58,
   "id": "28114caf",
   "metadata": {},
   "outputs": [
    {
     "data": {
      "text/plain": [
       "array([[0.8592083449400174, 0.3370918274608671, 0.8235011814433246,\n",
       "        0.9522325039907121, 0.061339367906582565],\n",
       "       [0.09606599440427299, 0.3503963312916789, 0.3401588778650464,\n",
       "        0.9629757282795625, 0.37253322910424536],\n",
       "       [0.42403391180249483, 'kanav', 0.37207864220309506,\n",
       "        0.6980189497802483, 0.7321879447388071],\n",
       "       [0.6156305993107428, 0.48854782592278256, 0.9902121726894673,\n",
       "        0.7455673015744035, 0.48991119788310156],\n",
       "       [0.16457219647902976, 0.6750553485260603, 0.622168879224624,\n",
       "        0.36041762131134847, 0.4265612671206045],\n",
       "       [0.3168696862838666, 0.4900270777191308, 0.3189806863119762,\n",
       "        0.4930035160169868, 0.15546042640462077],\n",
       "       [0.8130540176138984, 0.2349651218821096, 0.7966490044453308,\n",
       "        0.757292328308319, 0.7550860429244202],\n",
       "       [0.4293574035699359, 0.9144716446461658, 0.7835430126281553,\n",
       "        0.9046567568094549, 0.6204257261047361],\n",
       "       [0.8597230408609613, 0.5869185552337165, 0.7587617968283036,\n",
       "        0.574324406420181, 0.5052689512814668],\n",
       "       [0.7301902100458686, 0.3423885271134639, 0.22839862215693585,\n",
       "        0.747966621199717, 0.7658909475444884],\n",
       "       [0.25951175512136004, 0.28547729313919556, 0.9952489279603687,\n",
       "        0.12018290136162113, 0.6256817541898027],\n",
       "       [0.5444133476782628, 0.04962574159514166, 0.42788888360277444,\n",
       "        0.1626476736820337, 0.26880117408574644],\n",
       "       [0.8296275473628668, 0.3772988039020728, 0.9621216299546862,\n",
       "        0.1157270418769859, 0.9663314184155977],\n",
       "       [0.6283555794907537, 0.45770634250672415, 0.701815361919069,\n",
       "        0.5081706582475656, 0.3985863372689227],\n",
       "       [0.5563514640727787, 0.45448220502816417, 0.8723486274273275,\n",
       "        0.8311682993715266, 0.4784845999292603],\n",
       "       [0.2304915096493183, 0.6501993091383439, 0.4522940658223884,\n",
       "        0.997619801812886, 0.7580139739759352],\n",
       "       [0.422746934869373, 0.6609965089352443, 0.38528666833300695,\n",
       "        0.24447646614650076, 0.10759002612113511],\n",
       "       [0.3700153399210986, 0.14935518332525244, 0.29541555679560083,\n",
       "        0.5494777749351749, 0.5529275507064784],\n",
       "       [0.7972482038172294, 0.9924106195050333, 0.9766909984654593,\n",
       "        0.07202530281390696, 0.46655371475463947],\n",
       "       [0.2199810835386502, 0.7112005357503338, 0.2904086567884716,\n",
       "        0.7448331907091551, 0.20201769421364635],\n",
       "       [0.790385991468042, 0.4052722548966359, 0.9592767541608203,\n",
       "        0.46543346161886556, 0.35264105173014415],\n",
       "       [0.6909762911584206, 0.7257300290358483, 0.14898755754185022,\n",
       "        0.0656231357833913, 0.557580383693247],\n",
       "       [0.7391339935100412, 0.4214593644704171, 0.5726160836902877,\n",
       "        0.1339946616758505, 0.4742243477887008],\n",
       "       [0.782909112700172, 0.593770314500211, 0.6012424332433796,\n",
       "        0.5898296268866274, 0.9675030780420661],\n",
       "       [0.12799021099486785, 0.6778046540362123, 0.10945548412296446,\n",
       "        0.17222679548172382, 0.7828969862886337],\n",
       "       [0.02504578741214214, 0.28065932017299144, 0.5920171732954735,\n",
       "        0.6460957674933275, 0.8667807563765704],\n",
       "       [0.5302849839190442, 0.7677297099088735, 0.6504394861788001,\n",
       "        0.15188313979749635, 0.2786124212545297],\n",
       "       [0.16961747172728192, 0.533759058907095, 0.767517933088385,\n",
       "        0.7348358056893053, 0.5448770717558926],\n",
       "       [0.9747146295336534, 0.9835888554881779, 0.007314188286270729,\n",
       "        0.10482709649358868, 0.08476702482121978],\n",
       "       [0.7146830374681789, 0.9615418611869065, 0.3249960121146115,\n",
       "        0.8083658050548044, 0.6201303220746325],\n",
       "       [0.9724021054879999, 0.21430948337039357, 0.20927761915707077,\n",
       "        0.6206149549568568, 0.9031604374905813],\n",
       "       [0.8791973628670057, 0.41951137415983153, 0.4473057623778467,\n",
       "        0.3089422171595755, 0.03165615025166002],\n",
       "       [0.6164501366753242, 0.75750386844676, 0.02102170652249169,\n",
       "        0.29243115447573864, 0.001542348578371433],\n",
       "       [0.645604563405087, 0.4593623788191711, 0.8101500196781753,\n",
       "        0.15487401850027427, 0.9104216637643697],\n",
       "       [0.8259102734887507, 0.9951691669702232, 0.549072243048545,\n",
       "        0.6098265945988495, 0.4483844996038131],\n",
       "       [0.8125047076090581, 0.39772766451190034, 0.13960163332049724,\n",
       "        0.07393618444435068, 0.7508445453976067],\n",
       "       [0.9463997006967614, 0.3364045918854245, 0.12026626731031897,\n",
       "        0.6522014531009251, 0.4932343252742558],\n",
       "       [0.6459563373326925, 0.8069799912416199, 0.38390479897257457,\n",
       "        0.7518210376164383, 0.8378061074870636],\n",
       "       [0.08824496982373131, 0.8246442259000277, 0.9164038130057055,\n",
       "        0.1784758273285093, 0.5090977618090331],\n",
       "       [0.5479233928189838, 0.8020569491939518, 0.5040741477381745,\n",
       "        0.3720125087129177, 0.04691474139150553],\n",
       "       [0.5797263794799, 0.19417356736671598, 0.9634368707627066,\n",
       "        0.22095696003221077, 0.9979262919501037],\n",
       "       [0.3735108906532544, 0.98685580319724, 0.1833927217790361,\n",
       "        0.3244766287048445, 0.12243650303978992],\n",
       "       [0.06441960820565229, 0.2813787116435841, 0.9370097305548138,\n",
       "        0.7581775331006987, 0.3266415074981015],\n",
       "       [0.48173702748123226, 0.8722812523190585, 0.6059275685784038,\n",
       "        0.40373438985395993, 0.07285329221018921],\n",
       "       [0.6799620156057116, 0.2522744550759346, 0.6783585145654618,\n",
       "        0.6110546878788142, 0.05572529137173965]], dtype=object)"
      ]
     },
     "execution_count": 58,
     "metadata": {},
     "output_type": "execute_result"
    }
   ],
   "source": [
    "newdata=pd.DataFrame(np.random.rand(45,5)) #This line creates a pandas DataFrame named newdata with 45 rows and 5 columns, and fills it with random numbers between 0 and 1 using NumPy's rand function.\n",
    "newdata[1][2]=\"kanav\"#This line assigns the value \"kanav\" to the element at the second column (index 1) and third row (index 2) in the DataFrame newdata. It replaces the random number at that specific location with the string \"kanav\".\n",
    "newdata.to_numpy()"
   ]
  },
  {
   "cell_type": "code",
   "execution_count": 62,
   "id": "9681666a",
   "metadata": {},
   "outputs": [
    {
     "data": {
      "text/html": [
       "<div>\n",
       "<style scoped>\n",
       "    .dataframe tbody tr th:only-of-type {\n",
       "        vertical-align: middle;\n",
       "    }\n",
       "\n",
       "    .dataframe tbody tr th {\n",
       "        vertical-align: top;\n",
       "    }\n",
       "\n",
       "    .dataframe thead th {\n",
       "        text-align: right;\n",
       "    }\n",
       "</style>\n",
       "<table border=\"1\" class=\"dataframe\">\n",
       "  <thead>\n",
       "    <tr style=\"text-align: right;\">\n",
       "      <th></th>\n",
       "      <th>Unnamed: 0</th>\n",
       "      <th>Unnamed: 1</th>\n",
       "    </tr>\n",
       "  </thead>\n",
       "  <tbody>\n",
       "    <tr>\n",
       "      <th>0</th>\n",
       "      <td>sr no.</td>\n",
       "      <td>name</td>\n",
       "    </tr>\n",
       "    <tr>\n",
       "      <th>1</th>\n",
       "      <td>1</td>\n",
       "      <td>my</td>\n",
       "    </tr>\n",
       "    <tr>\n",
       "      <th>2</th>\n",
       "      <td>2</td>\n",
       "      <td>name</td>\n",
       "    </tr>\n",
       "    <tr>\n",
       "      <th>3</th>\n",
       "      <td>3</td>\n",
       "      <td>is</td>\n",
       "    </tr>\n",
       "  </tbody>\n",
       "</table>\n",
       "</div>"
      ],
      "text/plain": [
       "  Unnamed: 0 Unnamed: 1\n",
       "0     sr no.       name\n",
       "1          1         my\n",
       "2          2       name\n",
       "3          3         is"
      ]
     },
     "execution_count": 62,
     "metadata": {},
     "output_type": "execute_result"
    }
   ],
   "source": [
    "df = pd.read_excel('panda.xlsx')\n",
    "df"
   ]
  },
  {
   "cell_type": "code",
   "execution_count": null,
   "id": "39e157fd",
   "metadata": {},
   "outputs": [],
   "source": []
  }
 ],
 "metadata": {
  "kernelspec": {
   "display_name": "Python 3 (ipykernel)",
   "language": "python",
   "name": "python3"
  },
  "language_info": {
   "codemirror_mode": {
    "name": "ipython",
    "version": 3
   },
   "file_extension": ".py",
   "mimetype": "text/x-python",
   "name": "python",
   "nbconvert_exporter": "python",
   "pygments_lexer": "ipython3",
   "version": "3.11.5"
  }
 },
 "nbformat": 4,
 "nbformat_minor": 5
}
